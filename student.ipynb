{
 "cells": [
  {
   "cell_type": "markdown",
   "metadata": {},
   "source": [
    "## Module 1 Final Project Submission\n",
    "\n",
    "* Student name: THOMAS WHIPPLE\n",
    "* Student pace: PART TIME\n",
    "* Scheduled project review date/time: FRIDAY, 10/25/2019, 12pm\n",
    "* Instructor name: ABHINEET KULKARNI\n",
    "* Blog post URL:\n"
   ]
  },
  {
   "cell_type": "markdown",
   "metadata": {},
   "source": [
    "## The King County Housing Data"
   ]
  },
  {
   "cell_type": "markdown",
   "metadata": {},
   "source": [
    "#### We begin by loading the data, looking at the contents, and starting to clean it."
   ]
  },
  {
   "cell_type": "code",
   "execution_count": 1,
   "metadata": {},
   "outputs": [
    {
     "data": {
      "text/html": [
       "<div>\n",
       "<style scoped>\n",
       "    .dataframe tbody tr th:only-of-type {\n",
       "        vertical-align: middle;\n",
       "    }\n",
       "\n",
       "    .dataframe tbody tr th {\n",
       "        vertical-align: top;\n",
       "    }\n",
       "\n",
       "    .dataframe thead th {\n",
       "        text-align: right;\n",
       "    }\n",
       "</style>\n",
       "<table border=\"1\" class=\"dataframe\">\n",
       "  <thead>\n",
       "    <tr style=\"text-align: right;\">\n",
       "      <th></th>\n",
       "      <th>id</th>\n",
       "      <th>date</th>\n",
       "      <th>price</th>\n",
       "      <th>bedrooms</th>\n",
       "      <th>bathrooms</th>\n",
       "      <th>sqft_living</th>\n",
       "      <th>sqft_lot</th>\n",
       "      <th>floors</th>\n",
       "      <th>waterfront</th>\n",
       "      <th>view</th>\n",
       "      <th>...</th>\n",
       "      <th>grade</th>\n",
       "      <th>sqft_above</th>\n",
       "      <th>sqft_basement</th>\n",
       "      <th>yr_built</th>\n",
       "      <th>yr_renovated</th>\n",
       "      <th>zipcode</th>\n",
       "      <th>lat</th>\n",
       "      <th>long</th>\n",
       "      <th>sqft_living15</th>\n",
       "      <th>sqft_lot15</th>\n",
       "    </tr>\n",
       "  </thead>\n",
       "  <tbody>\n",
       "    <tr>\n",
       "      <th>0</th>\n",
       "      <td>7129300520</td>\n",
       "      <td>10/13/2014</td>\n",
       "      <td>221900.0</td>\n",
       "      <td>3</td>\n",
       "      <td>1.00</td>\n",
       "      <td>1180</td>\n",
       "      <td>5650</td>\n",
       "      <td>1.0</td>\n",
       "      <td>NaN</td>\n",
       "      <td>0.0</td>\n",
       "      <td>...</td>\n",
       "      <td>7</td>\n",
       "      <td>1180</td>\n",
       "      <td>0.0</td>\n",
       "      <td>1955</td>\n",
       "      <td>0.0</td>\n",
       "      <td>98178</td>\n",
       "      <td>47.5112</td>\n",
       "      <td>-122.257</td>\n",
       "      <td>1340</td>\n",
       "      <td>5650</td>\n",
       "    </tr>\n",
       "    <tr>\n",
       "      <th>1</th>\n",
       "      <td>6414100192</td>\n",
       "      <td>12/9/2014</td>\n",
       "      <td>538000.0</td>\n",
       "      <td>3</td>\n",
       "      <td>2.25</td>\n",
       "      <td>2570</td>\n",
       "      <td>7242</td>\n",
       "      <td>2.0</td>\n",
       "      <td>0.0</td>\n",
       "      <td>0.0</td>\n",
       "      <td>...</td>\n",
       "      <td>7</td>\n",
       "      <td>2170</td>\n",
       "      <td>400.0</td>\n",
       "      <td>1951</td>\n",
       "      <td>1991.0</td>\n",
       "      <td>98125</td>\n",
       "      <td>47.7210</td>\n",
       "      <td>-122.319</td>\n",
       "      <td>1690</td>\n",
       "      <td>7639</td>\n",
       "    </tr>\n",
       "    <tr>\n",
       "      <th>2</th>\n",
       "      <td>5631500400</td>\n",
       "      <td>2/25/2015</td>\n",
       "      <td>180000.0</td>\n",
       "      <td>2</td>\n",
       "      <td>1.00</td>\n",
       "      <td>770</td>\n",
       "      <td>10000</td>\n",
       "      <td>1.0</td>\n",
       "      <td>0.0</td>\n",
       "      <td>0.0</td>\n",
       "      <td>...</td>\n",
       "      <td>6</td>\n",
       "      <td>770</td>\n",
       "      <td>0.0</td>\n",
       "      <td>1933</td>\n",
       "      <td>NaN</td>\n",
       "      <td>98028</td>\n",
       "      <td>47.7379</td>\n",
       "      <td>-122.233</td>\n",
       "      <td>2720</td>\n",
       "      <td>8062</td>\n",
       "    </tr>\n",
       "    <tr>\n",
       "      <th>3</th>\n",
       "      <td>2487200875</td>\n",
       "      <td>12/9/2014</td>\n",
       "      <td>604000.0</td>\n",
       "      <td>4</td>\n",
       "      <td>3.00</td>\n",
       "      <td>1960</td>\n",
       "      <td>5000</td>\n",
       "      <td>1.0</td>\n",
       "      <td>0.0</td>\n",
       "      <td>0.0</td>\n",
       "      <td>...</td>\n",
       "      <td>7</td>\n",
       "      <td>1050</td>\n",
       "      <td>910.0</td>\n",
       "      <td>1965</td>\n",
       "      <td>0.0</td>\n",
       "      <td>98136</td>\n",
       "      <td>47.5208</td>\n",
       "      <td>-122.393</td>\n",
       "      <td>1360</td>\n",
       "      <td>5000</td>\n",
       "    </tr>\n",
       "    <tr>\n",
       "      <th>4</th>\n",
       "      <td>1954400510</td>\n",
       "      <td>2/18/2015</td>\n",
       "      <td>510000.0</td>\n",
       "      <td>3</td>\n",
       "      <td>2.00</td>\n",
       "      <td>1680</td>\n",
       "      <td>8080</td>\n",
       "      <td>1.0</td>\n",
       "      <td>0.0</td>\n",
       "      <td>0.0</td>\n",
       "      <td>...</td>\n",
       "      <td>8</td>\n",
       "      <td>1680</td>\n",
       "      <td>0.0</td>\n",
       "      <td>1987</td>\n",
       "      <td>0.0</td>\n",
       "      <td>98074</td>\n",
       "      <td>47.6168</td>\n",
       "      <td>-122.045</td>\n",
       "      <td>1800</td>\n",
       "      <td>7503</td>\n",
       "    </tr>\n",
       "  </tbody>\n",
       "</table>\n",
       "<p>5 rows × 21 columns</p>\n",
       "</div>"
      ],
      "text/plain": [
       "           id        date     price  bedrooms  bathrooms  sqft_living  \\\n",
       "0  7129300520  10/13/2014  221900.0         3       1.00         1180   \n",
       "1  6414100192   12/9/2014  538000.0         3       2.25         2570   \n",
       "2  5631500400   2/25/2015  180000.0         2       1.00          770   \n",
       "3  2487200875   12/9/2014  604000.0         4       3.00         1960   \n",
       "4  1954400510   2/18/2015  510000.0         3       2.00         1680   \n",
       "\n",
       "   sqft_lot  floors  waterfront  view     ...      grade  sqft_above  \\\n",
       "0      5650     1.0         NaN   0.0     ...          7        1180   \n",
       "1      7242     2.0         0.0   0.0     ...          7        2170   \n",
       "2     10000     1.0         0.0   0.0     ...          6         770   \n",
       "3      5000     1.0         0.0   0.0     ...          7        1050   \n",
       "4      8080     1.0         0.0   0.0     ...          8        1680   \n",
       "\n",
       "   sqft_basement yr_built  yr_renovated  zipcode      lat     long  \\\n",
       "0            0.0     1955           0.0    98178  47.5112 -122.257   \n",
       "1          400.0     1951        1991.0    98125  47.7210 -122.319   \n",
       "2            0.0     1933           NaN    98028  47.7379 -122.233   \n",
       "3          910.0     1965           0.0    98136  47.5208 -122.393   \n",
       "4            0.0     1987           0.0    98074  47.6168 -122.045   \n",
       "\n",
       "   sqft_living15  sqft_lot15  \n",
       "0           1340        5650  \n",
       "1           1690        7639  \n",
       "2           2720        8062  \n",
       "3           1360        5000  \n",
       "4           1800        7503  \n",
       "\n",
       "[5 rows x 21 columns]"
      ]
     },
     "execution_count": 1,
     "metadata": {},
     "output_type": "execute_result"
    }
   ],
   "source": [
    "# Load the data set and check the header\n",
    "import pandas as pd\n",
    "data = pd.read_csv(\"kc_house_data.csv\")\n",
    "data.head()"
   ]
  },
  {
   "cell_type": "code",
   "execution_count": 2,
   "metadata": {},
   "outputs": [
    {
     "name": "stdout",
     "output_type": "stream",
     "text": [
      "<class 'pandas.core.frame.DataFrame'>\n",
      "RangeIndex: 21597 entries, 0 to 21596\n",
      "Data columns (total 21 columns):\n",
      "id               21597 non-null int64\n",
      "date             21597 non-null object\n",
      "price            21597 non-null float64\n",
      "bedrooms         21597 non-null int64\n",
      "bathrooms        21597 non-null float64\n",
      "sqft_living      21597 non-null int64\n",
      "sqft_lot         21597 non-null int64\n",
      "floors           21597 non-null float64\n",
      "waterfront       19221 non-null float64\n",
      "view             21534 non-null float64\n",
      "condition        21597 non-null int64\n",
      "grade            21597 non-null int64\n",
      "sqft_above       21597 non-null int64\n",
      "sqft_basement    21597 non-null object\n",
      "yr_built         21597 non-null int64\n",
      "yr_renovated     17755 non-null float64\n",
      "zipcode          21597 non-null int64\n",
      "lat              21597 non-null float64\n",
      "long             21597 non-null float64\n",
      "sqft_living15    21597 non-null int64\n",
      "sqft_lot15       21597 non-null int64\n",
      "dtypes: float64(8), int64(11), object(2)\n",
      "memory usage: 3.5+ MB\n"
     ]
    }
   ],
   "source": [
    "# Get a look at the features, total entries, and types\n",
    "data.info()"
   ]
  },
  {
   "cell_type": "markdown",
   "metadata": {},
   "source": [
    "### Detecting Missing Data"
   ]
  },
  {
   "cell_type": "code",
   "execution_count": 3,
   "metadata": {},
   "outputs": [],
   "source": [
    "# First I need to look at columns 'yr_renovated' and 'waterfront' due to the NaN data.\n",
    "# 'yr_renovated  17755' and 'waterfront  19221'\n",
    "# The column 'view 21534' is also missing some information though it may be minimal."
   ]
  },
  {
   "cell_type": "code",
   "execution_count": 4,
   "metadata": {},
   "outputs": [],
   "source": [
    "# I also realized that 'date' and 'sqft_basement' contain objects!"
   ]
  },
  {
   "cell_type": "code",
   "execution_count": 5,
   "metadata": {},
   "outputs": [
    {
     "data": {
      "text/plain": [
       "id                  0\n",
       "date                0\n",
       "price               0\n",
       "bedrooms            0\n",
       "bathrooms           0\n",
       "sqft_living         0\n",
       "sqft_lot            0\n",
       "floors              0\n",
       "waterfront       2376\n",
       "view               63\n",
       "condition           0\n",
       "grade               0\n",
       "sqft_above          0\n",
       "sqft_basement       0\n",
       "yr_built            0\n",
       "yr_renovated     3842\n",
       "zipcode             0\n",
       "lat                 0\n",
       "long                0\n",
       "sqft_living15       0\n",
       "sqft_lot15          0\n",
       "dtype: int64"
      ]
     },
     "execution_count": 5,
     "metadata": {},
     "output_type": "execute_result"
    }
   ],
   "source": [
    "# My first look for missing data is confirmed\n",
    "data.isna().sum()"
   ]
  },
  {
   "cell_type": "code",
   "execution_count": 6,
   "metadata": {},
   "outputs": [
    {
     "name": "stdout",
     "output_type": "stream",
     "text": [
      "'yr_renovated' feature is missing about 18 percent of the data.\n"
     ]
    }
   ],
   "source": [
    "# Determine the percent of missing data.\n",
    "missing_1 = 3842/21597\n",
    "print(\"'yr_renovated' feature is missing about \" + str(round(missing_1*100)) + \" percent of the data.\")"
   ]
  },
  {
   "cell_type": "code",
   "execution_count": 7,
   "metadata": {},
   "outputs": [
    {
     "name": "stdout",
     "output_type": "stream",
     "text": [
      "'waterfront' feature is missing about 11 percent of the data.\n"
     ]
    }
   ],
   "source": [
    "# Determine the percent of missing data.\n",
    "missing_2 = 2376/21597\n",
    "print(\"'waterfront' feature is missing about \" + str(round(missing_2*100)) + \" percent of the data.\")"
   ]
  },
  {
   "cell_type": "code",
   "execution_count": 8,
   "metadata": {},
   "outputs": [],
   "source": [
    "# While both of these features are missing a lot of data, it doesn't constitute deleting their columns."
   ]
  },
  {
   "cell_type": "code",
   "execution_count": 9,
   "metadata": {},
   "outputs": [
    {
     "data": {
      "text/html": [
       "<div>\n",
       "<style scoped>\n",
       "    .dataframe tbody tr th:only-of-type {\n",
       "        vertical-align: middle;\n",
       "    }\n",
       "\n",
       "    .dataframe tbody tr th {\n",
       "        vertical-align: top;\n",
       "    }\n",
       "\n",
       "    .dataframe thead th {\n",
       "        text-align: right;\n",
       "    }\n",
       "</style>\n",
       "<table border=\"1\" class=\"dataframe\">\n",
       "  <thead>\n",
       "    <tr style=\"text-align: right;\">\n",
       "      <th></th>\n",
       "      <th>id</th>\n",
       "      <th>price</th>\n",
       "      <th>bedrooms</th>\n",
       "      <th>bathrooms</th>\n",
       "      <th>sqft_living</th>\n",
       "      <th>sqft_lot</th>\n",
       "      <th>floors</th>\n",
       "      <th>waterfront</th>\n",
       "      <th>view</th>\n",
       "      <th>condition</th>\n",
       "      <th>grade</th>\n",
       "      <th>sqft_above</th>\n",
       "      <th>yr_built</th>\n",
       "      <th>yr_renovated</th>\n",
       "      <th>zipcode</th>\n",
       "      <th>lat</th>\n",
       "      <th>long</th>\n",
       "      <th>sqft_living15</th>\n",
       "      <th>sqft_lot15</th>\n",
       "    </tr>\n",
       "  </thead>\n",
       "  <tbody>\n",
       "    <tr>\n",
       "      <th>count</th>\n",
       "      <td>2.159700e+04</td>\n",
       "      <td>2.159700e+04</td>\n",
       "      <td>21597.000000</td>\n",
       "      <td>21597.000000</td>\n",
       "      <td>21597.000000</td>\n",
       "      <td>2.159700e+04</td>\n",
       "      <td>21597.000000</td>\n",
       "      <td>19221.000000</td>\n",
       "      <td>21534.000000</td>\n",
       "      <td>21597.000000</td>\n",
       "      <td>21597.000000</td>\n",
       "      <td>21597.000000</td>\n",
       "      <td>21597.000000</td>\n",
       "      <td>17755.000000</td>\n",
       "      <td>21597.000000</td>\n",
       "      <td>21597.000000</td>\n",
       "      <td>21597.000000</td>\n",
       "      <td>21597.000000</td>\n",
       "      <td>21597.000000</td>\n",
       "    </tr>\n",
       "    <tr>\n",
       "      <th>mean</th>\n",
       "      <td>4.580474e+09</td>\n",
       "      <td>5.402966e+05</td>\n",
       "      <td>3.373200</td>\n",
       "      <td>2.115826</td>\n",
       "      <td>2080.321850</td>\n",
       "      <td>1.509941e+04</td>\n",
       "      <td>1.494096</td>\n",
       "      <td>0.007596</td>\n",
       "      <td>0.233863</td>\n",
       "      <td>3.409825</td>\n",
       "      <td>7.657915</td>\n",
       "      <td>1788.596842</td>\n",
       "      <td>1970.999676</td>\n",
       "      <td>83.636778</td>\n",
       "      <td>98077.951845</td>\n",
       "      <td>47.560093</td>\n",
       "      <td>-122.213982</td>\n",
       "      <td>1986.620318</td>\n",
       "      <td>12758.283512</td>\n",
       "    </tr>\n",
       "    <tr>\n",
       "      <th>std</th>\n",
       "      <td>2.876736e+09</td>\n",
       "      <td>3.673681e+05</td>\n",
       "      <td>0.926299</td>\n",
       "      <td>0.768984</td>\n",
       "      <td>918.106125</td>\n",
       "      <td>4.141264e+04</td>\n",
       "      <td>0.539683</td>\n",
       "      <td>0.086825</td>\n",
       "      <td>0.765686</td>\n",
       "      <td>0.650546</td>\n",
       "      <td>1.173200</td>\n",
       "      <td>827.759761</td>\n",
       "      <td>29.375234</td>\n",
       "      <td>399.946414</td>\n",
       "      <td>53.513072</td>\n",
       "      <td>0.138552</td>\n",
       "      <td>0.140724</td>\n",
       "      <td>685.230472</td>\n",
       "      <td>27274.441950</td>\n",
       "    </tr>\n",
       "    <tr>\n",
       "      <th>min</th>\n",
       "      <td>1.000102e+06</td>\n",
       "      <td>7.800000e+04</td>\n",
       "      <td>1.000000</td>\n",
       "      <td>0.500000</td>\n",
       "      <td>370.000000</td>\n",
       "      <td>5.200000e+02</td>\n",
       "      <td>1.000000</td>\n",
       "      <td>0.000000</td>\n",
       "      <td>0.000000</td>\n",
       "      <td>1.000000</td>\n",
       "      <td>3.000000</td>\n",
       "      <td>370.000000</td>\n",
       "      <td>1900.000000</td>\n",
       "      <td>0.000000</td>\n",
       "      <td>98001.000000</td>\n",
       "      <td>47.155900</td>\n",
       "      <td>-122.519000</td>\n",
       "      <td>399.000000</td>\n",
       "      <td>651.000000</td>\n",
       "    </tr>\n",
       "    <tr>\n",
       "      <th>25%</th>\n",
       "      <td>2.123049e+09</td>\n",
       "      <td>3.220000e+05</td>\n",
       "      <td>3.000000</td>\n",
       "      <td>1.750000</td>\n",
       "      <td>1430.000000</td>\n",
       "      <td>5.040000e+03</td>\n",
       "      <td>1.000000</td>\n",
       "      <td>0.000000</td>\n",
       "      <td>0.000000</td>\n",
       "      <td>3.000000</td>\n",
       "      <td>7.000000</td>\n",
       "      <td>1190.000000</td>\n",
       "      <td>1951.000000</td>\n",
       "      <td>0.000000</td>\n",
       "      <td>98033.000000</td>\n",
       "      <td>47.471100</td>\n",
       "      <td>-122.328000</td>\n",
       "      <td>1490.000000</td>\n",
       "      <td>5100.000000</td>\n",
       "    </tr>\n",
       "    <tr>\n",
       "      <th>50%</th>\n",
       "      <td>3.904930e+09</td>\n",
       "      <td>4.500000e+05</td>\n",
       "      <td>3.000000</td>\n",
       "      <td>2.250000</td>\n",
       "      <td>1910.000000</td>\n",
       "      <td>7.618000e+03</td>\n",
       "      <td>1.500000</td>\n",
       "      <td>0.000000</td>\n",
       "      <td>0.000000</td>\n",
       "      <td>3.000000</td>\n",
       "      <td>7.000000</td>\n",
       "      <td>1560.000000</td>\n",
       "      <td>1975.000000</td>\n",
       "      <td>0.000000</td>\n",
       "      <td>98065.000000</td>\n",
       "      <td>47.571800</td>\n",
       "      <td>-122.231000</td>\n",
       "      <td>1840.000000</td>\n",
       "      <td>7620.000000</td>\n",
       "    </tr>\n",
       "    <tr>\n",
       "      <th>75%</th>\n",
       "      <td>7.308900e+09</td>\n",
       "      <td>6.450000e+05</td>\n",
       "      <td>4.000000</td>\n",
       "      <td>2.500000</td>\n",
       "      <td>2550.000000</td>\n",
       "      <td>1.068500e+04</td>\n",
       "      <td>2.000000</td>\n",
       "      <td>0.000000</td>\n",
       "      <td>0.000000</td>\n",
       "      <td>4.000000</td>\n",
       "      <td>8.000000</td>\n",
       "      <td>2210.000000</td>\n",
       "      <td>1997.000000</td>\n",
       "      <td>0.000000</td>\n",
       "      <td>98118.000000</td>\n",
       "      <td>47.678000</td>\n",
       "      <td>-122.125000</td>\n",
       "      <td>2360.000000</td>\n",
       "      <td>10083.000000</td>\n",
       "    </tr>\n",
       "    <tr>\n",
       "      <th>max</th>\n",
       "      <td>9.900000e+09</td>\n",
       "      <td>7.700000e+06</td>\n",
       "      <td>33.000000</td>\n",
       "      <td>8.000000</td>\n",
       "      <td>13540.000000</td>\n",
       "      <td>1.651359e+06</td>\n",
       "      <td>3.500000</td>\n",
       "      <td>1.000000</td>\n",
       "      <td>4.000000</td>\n",
       "      <td>5.000000</td>\n",
       "      <td>13.000000</td>\n",
       "      <td>9410.000000</td>\n",
       "      <td>2015.000000</td>\n",
       "      <td>2015.000000</td>\n",
       "      <td>98199.000000</td>\n",
       "      <td>47.777600</td>\n",
       "      <td>-121.315000</td>\n",
       "      <td>6210.000000</td>\n",
       "      <td>871200.000000</td>\n",
       "    </tr>\n",
       "  </tbody>\n",
       "</table>\n",
       "</div>"
      ],
      "text/plain": [
       "                 id         price      bedrooms     bathrooms   sqft_living  \\\n",
       "count  2.159700e+04  2.159700e+04  21597.000000  21597.000000  21597.000000   \n",
       "mean   4.580474e+09  5.402966e+05      3.373200      2.115826   2080.321850   \n",
       "std    2.876736e+09  3.673681e+05      0.926299      0.768984    918.106125   \n",
       "min    1.000102e+06  7.800000e+04      1.000000      0.500000    370.000000   \n",
       "25%    2.123049e+09  3.220000e+05      3.000000      1.750000   1430.000000   \n",
       "50%    3.904930e+09  4.500000e+05      3.000000      2.250000   1910.000000   \n",
       "75%    7.308900e+09  6.450000e+05      4.000000      2.500000   2550.000000   \n",
       "max    9.900000e+09  7.700000e+06     33.000000      8.000000  13540.000000   \n",
       "\n",
       "           sqft_lot        floors    waterfront          view     condition  \\\n",
       "count  2.159700e+04  21597.000000  19221.000000  21534.000000  21597.000000   \n",
       "mean   1.509941e+04      1.494096      0.007596      0.233863      3.409825   \n",
       "std    4.141264e+04      0.539683      0.086825      0.765686      0.650546   \n",
       "min    5.200000e+02      1.000000      0.000000      0.000000      1.000000   \n",
       "25%    5.040000e+03      1.000000      0.000000      0.000000      3.000000   \n",
       "50%    7.618000e+03      1.500000      0.000000      0.000000      3.000000   \n",
       "75%    1.068500e+04      2.000000      0.000000      0.000000      4.000000   \n",
       "max    1.651359e+06      3.500000      1.000000      4.000000      5.000000   \n",
       "\n",
       "              grade    sqft_above      yr_built  yr_renovated       zipcode  \\\n",
       "count  21597.000000  21597.000000  21597.000000  17755.000000  21597.000000   \n",
       "mean       7.657915   1788.596842   1970.999676     83.636778  98077.951845   \n",
       "std        1.173200    827.759761     29.375234    399.946414     53.513072   \n",
       "min        3.000000    370.000000   1900.000000      0.000000  98001.000000   \n",
       "25%        7.000000   1190.000000   1951.000000      0.000000  98033.000000   \n",
       "50%        7.000000   1560.000000   1975.000000      0.000000  98065.000000   \n",
       "75%        8.000000   2210.000000   1997.000000      0.000000  98118.000000   \n",
       "max       13.000000   9410.000000   2015.000000   2015.000000  98199.000000   \n",
       "\n",
       "                lat          long  sqft_living15     sqft_lot15  \n",
       "count  21597.000000  21597.000000   21597.000000   21597.000000  \n",
       "mean      47.560093   -122.213982    1986.620318   12758.283512  \n",
       "std        0.138552      0.140724     685.230472   27274.441950  \n",
       "min       47.155900   -122.519000     399.000000     651.000000  \n",
       "25%       47.471100   -122.328000    1490.000000    5100.000000  \n",
       "50%       47.571800   -122.231000    1840.000000    7620.000000  \n",
       "75%       47.678000   -122.125000    2360.000000   10083.000000  \n",
       "max       47.777600   -121.315000    6210.000000  871200.000000  "
      ]
     },
     "execution_count": 9,
     "metadata": {},
     "output_type": "execute_result"
    }
   ],
   "source": [
    "# Use describe method to further look at the data.\n",
    "data.describe()"
   ]
  },
  {
   "cell_type": "code",
   "execution_count": 10,
   "metadata": {},
   "outputs": [],
   "source": [
    "# Many of the columns have max/mins that probably include outliers. I'll deal with that later."
   ]
  },
  {
   "cell_type": "markdown",
   "metadata": {},
   "source": [
    "### Which other columns or rows are hiding something?"
   ]
  },
  {
   "cell_type": "markdown",
   "metadata": {},
   "source": [
    "#### Let's start with 'bedrooms' and look closer."
   ]
  },
  {
   "cell_type": "code",
   "execution_count": 11,
   "metadata": {},
   "outputs": [
    {
     "data": {
      "text/plain": [
       "array([ 3,  2,  4,  5,  1,  6,  7,  8,  9, 11, 10, 33])"
      ]
     },
     "execution_count": 11,
     "metadata": {},
     "output_type": "execute_result"
    }
   ],
   "source": [
    "data.bedrooms.unique()"
   ]
  },
  {
   "cell_type": "code",
   "execution_count": 12,
   "metadata": {},
   "outputs": [
    {
     "data": {
      "text/html": [
       "<div>\n",
       "<style scoped>\n",
       "    .dataframe tbody tr th:only-of-type {\n",
       "        vertical-align: middle;\n",
       "    }\n",
       "\n",
       "    .dataframe tbody tr th {\n",
       "        vertical-align: top;\n",
       "    }\n",
       "\n",
       "    .dataframe thead th {\n",
       "        text-align: right;\n",
       "    }\n",
       "</style>\n",
       "<table border=\"1\" class=\"dataframe\">\n",
       "  <thead>\n",
       "    <tr style=\"text-align: right;\">\n",
       "      <th></th>\n",
       "      <th>id</th>\n",
       "      <th>date</th>\n",
       "      <th>price</th>\n",
       "      <th>bedrooms</th>\n",
       "      <th>bathrooms</th>\n",
       "      <th>sqft_living</th>\n",
       "      <th>sqft_lot</th>\n",
       "      <th>floors</th>\n",
       "      <th>waterfront</th>\n",
       "      <th>view</th>\n",
       "      <th>...</th>\n",
       "      <th>grade</th>\n",
       "      <th>sqft_above</th>\n",
       "      <th>sqft_basement</th>\n",
       "      <th>yr_built</th>\n",
       "      <th>yr_renovated</th>\n",
       "      <th>zipcode</th>\n",
       "      <th>lat</th>\n",
       "      <th>long</th>\n",
       "      <th>sqft_living15</th>\n",
       "      <th>sqft_lot15</th>\n",
       "    </tr>\n",
       "  </thead>\n",
       "  <tbody>\n",
       "    <tr>\n",
       "      <th>15856</th>\n",
       "      <td>2402100895</td>\n",
       "      <td>6/25/2014</td>\n",
       "      <td>640000.0</td>\n",
       "      <td>33</td>\n",
       "      <td>1.75</td>\n",
       "      <td>1620</td>\n",
       "      <td>6000</td>\n",
       "      <td>1.0</td>\n",
       "      <td>0.0</td>\n",
       "      <td>0.0</td>\n",
       "      <td>...</td>\n",
       "      <td>7</td>\n",
       "      <td>1040</td>\n",
       "      <td>580.0</td>\n",
       "      <td>1947</td>\n",
       "      <td>0.0</td>\n",
       "      <td>98103</td>\n",
       "      <td>47.6878</td>\n",
       "      <td>-122.331</td>\n",
       "      <td>1330</td>\n",
       "      <td>4700</td>\n",
       "    </tr>\n",
       "  </tbody>\n",
       "</table>\n",
       "<p>1 rows × 21 columns</p>\n",
       "</div>"
      ],
      "text/plain": [
       "               id       date     price  bedrooms  bathrooms  sqft_living  \\\n",
       "15856  2402100895  6/25/2014  640000.0        33       1.75         1620   \n",
       "\n",
       "       sqft_lot  floors  waterfront  view     ...      grade  sqft_above  \\\n",
       "15856      6000     1.0         0.0   0.0     ...          7        1040   \n",
       "\n",
       "       sqft_basement yr_built  yr_renovated  zipcode      lat     long  \\\n",
       "15856          580.0     1947           0.0    98103  47.6878 -122.331   \n",
       "\n",
       "       sqft_living15  sqft_lot15  \n",
       "15856           1330        4700  \n",
       "\n",
       "[1 rows x 21 columns]"
      ]
     },
     "execution_count": 12,
     "metadata": {},
     "output_type": "execute_result"
    }
   ],
   "source": [
    "# Just in case this house is a mansion with 33 bedrooms, I wanted to look at the whole row.\n",
    "data.loc[data['bedrooms'] == 33]"
   ]
  },
  {
   "cell_type": "code",
   "execution_count": 13,
   "metadata": {},
   "outputs": [],
   "source": [
    "# Looks as if the number was just entered incorrectly.  Should I delete it?  Change it to just '3'?"
   ]
  },
  {
   "cell_type": "code",
   "execution_count": 14,
   "metadata": {},
   "outputs": [],
   "source": [
    "# I think it's just a typo, so I'll change it to the median.\n",
    "data.at[15856,'bedrooms'] = 3"
   ]
  },
  {
   "cell_type": "code",
   "execution_count": 15,
   "metadata": {},
   "outputs": [
    {
     "data": {
      "text/plain": [
       "6.084099911153768"
      ]
     },
     "execution_count": 15,
     "metadata": {},
     "output_type": "execute_result"
    }
   ],
   "source": [
    "# Let's look at the number of houses with more than 3 standard deviations.\n",
    "data.bedrooms.std()*3 + data.bedrooms.mean()"
   ]
  },
  {
   "cell_type": "code",
   "execution_count": 16,
   "metadata": {},
   "outputs": [],
   "source": [
    "# Drop all 'bedrooms' rows that are greater than three standard deviations.\n",
    "data = data[data.bedrooms < 6.08]"
   ]
  },
  {
   "cell_type": "code",
   "execution_count": 17,
   "metadata": {},
   "outputs": [
    {
     "data": {
      "text/plain": [
       "count    21536.000000\n",
       "mean         3.359770\n",
       "std          0.875074\n",
       "min          1.000000\n",
       "25%          3.000000\n",
       "50%          3.000000\n",
       "75%          4.000000\n",
       "max          6.000000\n",
       "Name: bedrooms, dtype: float64"
      ]
     },
     "execution_count": 17,
     "metadata": {},
     "output_type": "execute_result"
    }
   ],
   "source": [
    "data.bedrooms.describe()"
   ]
  },
  {
   "cell_type": "markdown",
   "metadata": {},
   "source": [
    "#### I'm excited to see the variety of 'bathrooms' that houses might have."
   ]
  },
  {
   "cell_type": "code",
   "execution_count": 18,
   "metadata": {},
   "outputs": [
    {
     "data": {
      "text/plain": [
       "array([1.  , 2.25, 3.  , 2.  , 4.5 , 1.5 , 2.5 , 1.75, 2.75, 3.25, 4.  ,\n",
       "       3.5 , 0.75, 4.75, 5.  , 4.25, 3.75, 1.25, 5.25, 6.  , 0.5 , 5.5 ,\n",
       "       5.75, 8.  , 6.75, 7.75, 6.25, 6.5 ])"
      ]
     },
     "execution_count": 18,
     "metadata": {},
     "output_type": "execute_result"
    }
   ],
   "source": [
    "# I guess some houses really do have a lot of bathrooms.\n",
    "data.bathrooms.unique()"
   ]
  },
  {
   "cell_type": "code",
   "execution_count": 19,
   "metadata": {},
   "outputs": [
    {
     "data": {
      "text/html": [
       "<div>\n",
       "<style scoped>\n",
       "    .dataframe tbody tr th:only-of-type {\n",
       "        vertical-align: middle;\n",
       "    }\n",
       "\n",
       "    .dataframe tbody tr th {\n",
       "        vertical-align: top;\n",
       "    }\n",
       "\n",
       "    .dataframe thead th {\n",
       "        text-align: right;\n",
       "    }\n",
       "</style>\n",
       "<table border=\"1\" class=\"dataframe\">\n",
       "  <thead>\n",
       "    <tr style=\"text-align: right;\">\n",
       "      <th></th>\n",
       "      <th>id</th>\n",
       "      <th>date</th>\n",
       "      <th>price</th>\n",
       "      <th>bedrooms</th>\n",
       "      <th>bathrooms</th>\n",
       "      <th>sqft_living</th>\n",
       "      <th>sqft_lot</th>\n",
       "      <th>floors</th>\n",
       "      <th>waterfront</th>\n",
       "      <th>view</th>\n",
       "      <th>...</th>\n",
       "      <th>grade</th>\n",
       "      <th>sqft_above</th>\n",
       "      <th>sqft_basement</th>\n",
       "      <th>yr_built</th>\n",
       "      <th>yr_renovated</th>\n",
       "      <th>zipcode</th>\n",
       "      <th>lat</th>\n",
       "      <th>long</th>\n",
       "      <th>sqft_living15</th>\n",
       "      <th>sqft_lot15</th>\n",
       "    </tr>\n",
       "  </thead>\n",
       "  <tbody>\n",
       "    <tr>\n",
       "      <th>7245</th>\n",
       "      <td>6762700020</td>\n",
       "      <td>10/13/2014</td>\n",
       "      <td>7700000.0</td>\n",
       "      <td>6</td>\n",
       "      <td>8.0</td>\n",
       "      <td>12050</td>\n",
       "      <td>27600</td>\n",
       "      <td>2.5</td>\n",
       "      <td>0.0</td>\n",
       "      <td>3.0</td>\n",
       "      <td>...</td>\n",
       "      <td>13</td>\n",
       "      <td>8570</td>\n",
       "      <td>3480.0</td>\n",
       "      <td>1910</td>\n",
       "      <td>1987.0</td>\n",
       "      <td>98102</td>\n",
       "      <td>47.6298</td>\n",
       "      <td>-122.323</td>\n",
       "      <td>3940</td>\n",
       "      <td>8800</td>\n",
       "    </tr>\n",
       "  </tbody>\n",
       "</table>\n",
       "<p>1 rows × 21 columns</p>\n",
       "</div>"
      ],
      "text/plain": [
       "              id        date      price  bedrooms  bathrooms  sqft_living  \\\n",
       "7245  6762700020  10/13/2014  7700000.0         6        8.0        12050   \n",
       "\n",
       "      sqft_lot  floors  waterfront  view     ...      grade  sqft_above  \\\n",
       "7245     27600     2.5         0.0   3.0     ...         13        8570   \n",
       "\n",
       "      sqft_basement yr_built  yr_renovated  zipcode      lat     long  \\\n",
       "7245         3480.0     1910        1987.0    98102  47.6298 -122.323   \n",
       "\n",
       "      sqft_living15  sqft_lot15  \n",
       "7245           3940        8800  \n",
       "\n",
       "[1 rows x 21 columns]"
      ]
     },
     "execution_count": 19,
     "metadata": {},
     "output_type": "execute_result"
    }
   ],
   "source": [
    "data.loc[data['bathrooms'] == 8]"
   ]
  },
  {
   "cell_type": "code",
   "execution_count": 20,
   "metadata": {},
   "outputs": [],
   "source": [
    "# Two houses with eight bathrooms or similar, meaning it's probably not an error but they are outliers. "
   ]
  },
  {
   "cell_type": "code",
   "execution_count": 21,
   "metadata": {},
   "outputs": [
    {
     "data": {
      "text/plain": [
       "4.398213876240437"
      ]
     },
     "execution_count": 21,
     "metadata": {},
     "output_type": "execute_result"
    }
   ],
   "source": [
    "# Let's look at the number of houses with more than 3 standard deviations.\n",
    "data.bathrooms.std()*3 + data.bathrooms.mean()"
   ]
  },
  {
   "cell_type": "code",
   "execution_count": 22,
   "metadata": {},
   "outputs": [
    {
     "data": {
      "text/plain": [
       "count    21364.000000\n",
       "mean         2.089297\n",
       "std          0.722450\n",
       "min          0.500000\n",
       "25%          1.500000\n",
       "50%          2.250000\n",
       "75%          2.500000\n",
       "max          4.250000\n",
       "Name: bathrooms, dtype: float64"
      ]
     },
     "execution_count": 22,
     "metadata": {},
     "output_type": "execute_result"
    }
   ],
   "source": [
    "# Drop all 'bathrooms' rows that are greater than three standard deviations.\n",
    "data = data[data.bathrooms < 4.39]\n",
    "data.bathrooms.describe()"
   ]
  },
  {
   "cell_type": "markdown",
   "metadata": {},
   "source": [
    "#### What different kind of 'floors' do the houses have?"
   ]
  },
  {
   "cell_type": "code",
   "execution_count": 23,
   "metadata": {},
   "outputs": [
    {
     "data": {
      "text/plain": [
       "array([1. , 2. , 1.5, 3. , 2.5, 3.5])"
      ]
     },
     "execution_count": 23,
     "metadata": {},
     "output_type": "execute_result"
    }
   ],
   "source": [
    "data.floors.unique()  "
   ]
  },
  {
   "cell_type": "code",
   "execution_count": 24,
   "metadata": {},
   "outputs": [],
   "source": [
    "# Are floor levels continuous?\n",
    "# Does 2.5 floors make sense?  I think I will just leave these as a continuous variable."
   ]
  },
  {
   "cell_type": "code",
   "execution_count": 25,
   "metadata": {},
   "outputs": [
    {
     "data": {
      "text/plain": [
       "3.10584679380149"
      ]
     },
     "execution_count": 25,
     "metadata": {},
     "output_type": "execute_result"
    }
   ],
   "source": [
    "# Let's look at the number of houses with more than 3 standard deviations of floors.\n",
    "data.floors.std()*3 + data.floors.mean()"
   ]
  },
  {
   "cell_type": "code",
   "execution_count": 26,
   "metadata": {},
   "outputs": [
    {
     "data": {
      "text/html": [
       "<div>\n",
       "<style scoped>\n",
       "    .dataframe tbody tr th:only-of-type {\n",
       "        vertical-align: middle;\n",
       "    }\n",
       "\n",
       "    .dataframe tbody tr th {\n",
       "        vertical-align: top;\n",
       "    }\n",
       "\n",
       "    .dataframe thead th {\n",
       "        text-align: right;\n",
       "    }\n",
       "</style>\n",
       "<table border=\"1\" class=\"dataframe\">\n",
       "  <thead>\n",
       "    <tr style=\"text-align: right;\">\n",
       "      <th></th>\n",
       "      <th>id</th>\n",
       "      <th>date</th>\n",
       "      <th>price</th>\n",
       "      <th>bedrooms</th>\n",
       "      <th>bathrooms</th>\n",
       "      <th>sqft_living</th>\n",
       "      <th>sqft_lot</th>\n",
       "      <th>floors</th>\n",
       "      <th>waterfront</th>\n",
       "      <th>view</th>\n",
       "      <th>...</th>\n",
       "      <th>grade</th>\n",
       "      <th>sqft_above</th>\n",
       "      <th>sqft_basement</th>\n",
       "      <th>yr_built</th>\n",
       "      <th>yr_renovated</th>\n",
       "      <th>zipcode</th>\n",
       "      <th>lat</th>\n",
       "      <th>long</th>\n",
       "      <th>sqft_living15</th>\n",
       "      <th>sqft_lot15</th>\n",
       "    </tr>\n",
       "  </thead>\n",
       "  <tbody>\n",
       "    <tr>\n",
       "      <th>10066</th>\n",
       "      <td>1972202010</td>\n",
       "      <td>8/1/2014</td>\n",
       "      <td>435000.0</td>\n",
       "      <td>3</td>\n",
       "      <td>3.00</td>\n",
       "      <td>1440</td>\n",
       "      <td>1350</td>\n",
       "      <td>3.5</td>\n",
       "      <td>0.0</td>\n",
       "      <td>2.0</td>\n",
       "      <td>...</td>\n",
       "      <td>8</td>\n",
       "      <td>1440</td>\n",
       "      <td>0.0</td>\n",
       "      <td>2005</td>\n",
       "      <td>0.0</td>\n",
       "      <td>98103</td>\n",
       "      <td>47.6525</td>\n",
       "      <td>-122.345</td>\n",
       "      <td>1440</td>\n",
       "      <td>1350</td>\n",
       "    </tr>\n",
       "    <tr>\n",
       "      <th>11582</th>\n",
       "      <td>3180100023</td>\n",
       "      <td>1/30/2015</td>\n",
       "      <td>544000.0</td>\n",
       "      <td>3</td>\n",
       "      <td>2.50</td>\n",
       "      <td>1760</td>\n",
       "      <td>1755</td>\n",
       "      <td>3.5</td>\n",
       "      <td>0.0</td>\n",
       "      <td>0.0</td>\n",
       "      <td>...</td>\n",
       "      <td>8</td>\n",
       "      <td>1760</td>\n",
       "      <td>0.0</td>\n",
       "      <td>1998</td>\n",
       "      <td>0.0</td>\n",
       "      <td>98105</td>\n",
       "      <td>47.6688</td>\n",
       "      <td>-122.279</td>\n",
       "      <td>1700</td>\n",
       "      <td>1721</td>\n",
       "    </tr>\n",
       "    <tr>\n",
       "      <th>14871</th>\n",
       "      <td>8673400177</td>\n",
       "      <td>4/2/2015</td>\n",
       "      <td>525000.0</td>\n",
       "      <td>3</td>\n",
       "      <td>3.00</td>\n",
       "      <td>1730</td>\n",
       "      <td>1074</td>\n",
       "      <td>3.5</td>\n",
       "      <td>0.0</td>\n",
       "      <td>0.0</td>\n",
       "      <td>...</td>\n",
       "      <td>8</td>\n",
       "      <td>1730</td>\n",
       "      <td>0.0</td>\n",
       "      <td>2006</td>\n",
       "      <td>0.0</td>\n",
       "      <td>98107</td>\n",
       "      <td>47.6692</td>\n",
       "      <td>-122.392</td>\n",
       "      <td>1370</td>\n",
       "      <td>1185</td>\n",
       "    </tr>\n",
       "    <tr>\n",
       "      <th>15410</th>\n",
       "      <td>1702900664</td>\n",
       "      <td>4/16/2015</td>\n",
       "      <td>479000.0</td>\n",
       "      <td>2</td>\n",
       "      <td>2.50</td>\n",
       "      <td>1730</td>\n",
       "      <td>1037</td>\n",
       "      <td>3.5</td>\n",
       "      <td>0.0</td>\n",
       "      <td>0.0</td>\n",
       "      <td>...</td>\n",
       "      <td>8</td>\n",
       "      <td>1730</td>\n",
       "      <td>0.0</td>\n",
       "      <td>2008</td>\n",
       "      <td>0.0</td>\n",
       "      <td>98118</td>\n",
       "      <td>47.5594</td>\n",
       "      <td>-122.285</td>\n",
       "      <td>1280</td>\n",
       "      <td>1026</td>\n",
       "    </tr>\n",
       "    <tr>\n",
       "      <th>20292</th>\n",
       "      <td>1972200426</td>\n",
       "      <td>9/18/2014</td>\n",
       "      <td>525000.0</td>\n",
       "      <td>2</td>\n",
       "      <td>2.75</td>\n",
       "      <td>1310</td>\n",
       "      <td>1268</td>\n",
       "      <td>3.5</td>\n",
       "      <td>0.0</td>\n",
       "      <td>0.0</td>\n",
       "      <td>...</td>\n",
       "      <td>8</td>\n",
       "      <td>1310</td>\n",
       "      <td>0.0</td>\n",
       "      <td>2007</td>\n",
       "      <td>0.0</td>\n",
       "      <td>98103</td>\n",
       "      <td>47.6534</td>\n",
       "      <td>-122.355</td>\n",
       "      <td>1350</td>\n",
       "      <td>1288</td>\n",
       "    </tr>\n",
       "    <tr>\n",
       "      <th>20756</th>\n",
       "      <td>1972200428</td>\n",
       "      <td>6/25/2014</td>\n",
       "      <td>563500.0</td>\n",
       "      <td>3</td>\n",
       "      <td>2.50</td>\n",
       "      <td>1400</td>\n",
       "      <td>1312</td>\n",
       "      <td>3.5</td>\n",
       "      <td>NaN</td>\n",
       "      <td>0.0</td>\n",
       "      <td>...</td>\n",
       "      <td>8</td>\n",
       "      <td>1400</td>\n",
       "      <td>0.0</td>\n",
       "      <td>2007</td>\n",
       "      <td>NaN</td>\n",
       "      <td>98103</td>\n",
       "      <td>47.6534</td>\n",
       "      <td>-122.355</td>\n",
       "      <td>1350</td>\n",
       "      <td>1312</td>\n",
       "    </tr>\n",
       "  </tbody>\n",
       "</table>\n",
       "<p>6 rows × 21 columns</p>\n",
       "</div>"
      ],
      "text/plain": [
       "               id       date     price  bedrooms  bathrooms  sqft_living  \\\n",
       "10066  1972202010   8/1/2014  435000.0         3       3.00         1440   \n",
       "11582  3180100023  1/30/2015  544000.0         3       2.50         1760   \n",
       "14871  8673400177   4/2/2015  525000.0         3       3.00         1730   \n",
       "15410  1702900664  4/16/2015  479000.0         2       2.50         1730   \n",
       "20292  1972200426  9/18/2014  525000.0         2       2.75         1310   \n",
       "20756  1972200428  6/25/2014  563500.0         3       2.50         1400   \n",
       "\n",
       "       sqft_lot  floors  waterfront  view     ...      grade  sqft_above  \\\n",
       "10066      1350     3.5         0.0   2.0     ...          8        1440   \n",
       "11582      1755     3.5         0.0   0.0     ...          8        1760   \n",
       "14871      1074     3.5         0.0   0.0     ...          8        1730   \n",
       "15410      1037     3.5         0.0   0.0     ...          8        1730   \n",
       "20292      1268     3.5         0.0   0.0     ...          8        1310   \n",
       "20756      1312     3.5         NaN   0.0     ...          8        1400   \n",
       "\n",
       "       sqft_basement yr_built  yr_renovated  zipcode      lat     long  \\\n",
       "10066            0.0     2005           0.0    98103  47.6525 -122.345   \n",
       "11582            0.0     1998           0.0    98105  47.6688 -122.279   \n",
       "14871            0.0     2006           0.0    98107  47.6692 -122.392   \n",
       "15410            0.0     2008           0.0    98118  47.5594 -122.285   \n",
       "20292            0.0     2007           0.0    98103  47.6534 -122.355   \n",
       "20756            0.0     2007           NaN    98103  47.6534 -122.355   \n",
       "\n",
       "       sqft_living15  sqft_lot15  \n",
       "10066           1440        1350  \n",
       "11582           1700        1721  \n",
       "14871           1370        1185  \n",
       "15410           1280        1026  \n",
       "20292           1350        1288  \n",
       "20756           1350        1312  \n",
       "\n",
       "[6 rows x 21 columns]"
      ]
     },
     "execution_count": 26,
     "metadata": {},
     "output_type": "execute_result"
    }
   ],
   "source": [
    "# There are a handful of houses with more than 3 floors.\n",
    "data.loc[data['floors'] > 3.10]"
   ]
  },
  {
   "cell_type": "code",
   "execution_count": 27,
   "metadata": {},
   "outputs": [
    {
     "data": {
      "text/plain": [
       "array([1. , 2. , 1.5, 3. , 2.5])"
      ]
     },
     "execution_count": 27,
     "metadata": {},
     "output_type": "execute_result"
    }
   ],
   "source": [
    "# Lets get rid of outliers.\n",
    "data = data[data.floors < 3.10]\n",
    "data.floors.unique()"
   ]
  },
  {
   "cell_type": "markdown",
   "metadata": {},
   "source": [
    "#### The 'id' feature is has really big numbers. "
   ]
  },
  {
   "cell_type": "code",
   "execution_count": 28,
   "metadata": {},
   "outputs": [
    {
     "data": {
      "text/plain": [
       "array([7129300520, 6414100192, 5631500400, ..., 1523300141,  291310100,\n",
       "       1523300157])"
      ]
     },
     "execution_count": 28,
     "metadata": {},
     "output_type": "execute_result"
    }
   ],
   "source": [
    "data.id.unique() "
   ]
  },
  {
   "cell_type": "code",
   "execution_count": 29,
   "metadata": {},
   "outputs": [],
   "source": [
    "# Probably gonna just drop these since the number don't really mean anything."
   ]
  },
  {
   "cell_type": "code",
   "execution_count": 30,
   "metadata": {},
   "outputs": [],
   "source": [
    "# Drop 'id' from the dataset.\n",
    "data = data.drop([\"id\"], axis=1)"
   ]
  },
  {
   "cell_type": "markdown",
   "metadata": {},
   "source": [
    "#### Either you have 'waterfront' or you don't, right?"
   ]
  },
  {
   "cell_type": "code",
   "execution_count": 31,
   "metadata": {},
   "outputs": [
    {
     "data": {
      "text/plain": [
       "array([nan,  0.,  1.])"
      ]
     },
     "execution_count": 31,
     "metadata": {},
     "output_type": "execute_result"
    }
   ],
   "source": [
    "data.waterfront.unique()"
   ]
  },
  {
   "cell_type": "code",
   "execution_count": 32,
   "metadata": {},
   "outputs": [],
   "source": [
    "# I think all the 'nan's should just become 0."
   ]
  },
  {
   "cell_type": "code",
   "execution_count": 33,
   "metadata": {},
   "outputs": [],
   "source": [
    "# Let's get rid of the Nan's, change them to '0'\n",
    "data.waterfront.fillna(value=data.waterfront.median(), inplace = True)"
   ]
  },
  {
   "cell_type": "code",
   "execution_count": 34,
   "metadata": {},
   "outputs": [
    {
     "data": {
      "text/plain": [
       "array([0., 1.])"
      ]
     },
     "execution_count": 34,
     "metadata": {},
     "output_type": "execute_result"
    }
   ],
   "source": [
    "# That's better.\n",
    "data.waterfront.unique()"
   ]
  },
  {
   "cell_type": "markdown",
   "metadata": {},
   "source": [
    "#### What is this 'view' all about?"
   ]
  },
  {
   "cell_type": "code",
   "execution_count": 35,
   "metadata": {},
   "outputs": [
    {
     "data": {
      "text/plain": [
       "array([ 0., nan,  3.,  4.,  2.,  1.])"
      ]
     },
     "execution_count": 35,
     "metadata": {},
     "output_type": "execute_result"
    }
   ],
   "source": [
    "data.view.unique()"
   ]
  },
  {
   "cell_type": "code",
   "execution_count": 36,
   "metadata": {},
   "outputs": [],
   "source": [
    "# This is going to be tough! Is this continuous?  Should the nan's really be 0's?"
   ]
  },
  {
   "cell_type": "code",
   "execution_count": 37,
   "metadata": {},
   "outputs": [],
   "source": [
    "# Let's get rid of the Nan's, change them to '0'\n",
    "data.view.fillna(value=data.view.median(), inplace = True)"
   ]
  },
  {
   "cell_type": "markdown",
   "metadata": {},
   "source": [
    "#### How many homes have a 'view' of 4, the max?"
   ]
  },
  {
   "cell_type": "code",
   "execution_count": 38,
   "metadata": {},
   "outputs": [
    {
     "data": {
      "text/plain": [
       "293"
      ]
     },
     "execution_count": 38,
     "metadata": {},
     "output_type": "execute_result"
    }
   ],
   "source": [
    "# Determine the number of entries with the max number of viewings.\n",
    "len(data.loc[data['view'] == 4])"
   ]
  },
  {
   "cell_type": "code",
   "execution_count": 39,
   "metadata": {},
   "outputs": [
    {
     "data": {
      "text/plain": [
       "array([0., 3., 4., 2., 1.])"
      ]
     },
     "execution_count": 39,
     "metadata": {},
     "output_type": "execute_result"
    }
   ],
   "source": [
    "# 294 homes feel as if their view is a \"4\".  Is that 4 stars?  4/5?  Definitely Categorical, should be binned!\n",
    "data.view.unique()"
   ]
  },
  {
   "cell_type": "markdown",
   "metadata": {},
   "source": [
    "#### What about that house with 13,540 sq. ft. of 'living space'?"
   ]
  },
  {
   "cell_type": "code",
   "execution_count": 40,
   "metadata": {},
   "outputs": [
    {
     "data": {
      "text/plain": [
       "count    21358.000000\n",
       "mean      2051.437775\n",
       "std        861.882289\n",
       "min        370.000000\n",
       "25%       1420.000000\n",
       "50%       1900.000000\n",
       "75%       2520.000000\n",
       "max       7850.000000\n",
       "Name: sqft_living, dtype: float64"
      ]
     },
     "execution_count": 40,
     "metadata": {},
     "output_type": "execute_result"
    }
   ],
   "source": [
    "data.sqft_living.describe()"
   ]
  },
  {
   "cell_type": "code",
   "execution_count": 41,
   "metadata": {},
   "outputs": [
    {
     "data": {
      "text/html": [
       "<div>\n",
       "<style scoped>\n",
       "    .dataframe tbody tr th:only-of-type {\n",
       "        vertical-align: middle;\n",
       "    }\n",
       "\n",
       "    .dataframe tbody tr th {\n",
       "        vertical-align: top;\n",
       "    }\n",
       "\n",
       "    .dataframe thead th {\n",
       "        text-align: right;\n",
       "    }\n",
       "</style>\n",
       "<table border=\"1\" class=\"dataframe\">\n",
       "  <thead>\n",
       "    <tr style=\"text-align: right;\">\n",
       "      <th></th>\n",
       "      <th>date</th>\n",
       "      <th>price</th>\n",
       "      <th>bedrooms</th>\n",
       "      <th>bathrooms</th>\n",
       "      <th>sqft_living</th>\n",
       "      <th>sqft_lot</th>\n",
       "      <th>floors</th>\n",
       "      <th>waterfront</th>\n",
       "      <th>view</th>\n",
       "      <th>condition</th>\n",
       "      <th>grade</th>\n",
       "      <th>sqft_above</th>\n",
       "      <th>sqft_basement</th>\n",
       "      <th>yr_built</th>\n",
       "      <th>yr_renovated</th>\n",
       "      <th>zipcode</th>\n",
       "      <th>lat</th>\n",
       "      <th>long</th>\n",
       "      <th>sqft_living15</th>\n",
       "      <th>sqft_lot15</th>\n",
       "    </tr>\n",
       "  </thead>\n",
       "  <tbody>\n",
       "    <tr>\n",
       "      <th>19842</th>\n",
       "      <td>1/22/2015</td>\n",
       "      <td>2700000.0</td>\n",
       "      <td>4</td>\n",
       "      <td>4.0</td>\n",
       "      <td>7850</td>\n",
       "      <td>89651</td>\n",
       "      <td>2.0</td>\n",
       "      <td>0.0</td>\n",
       "      <td>0.0</td>\n",
       "      <td>3</td>\n",
       "      <td>12</td>\n",
       "      <td>7850</td>\n",
       "      <td>0.0</td>\n",
       "      <td>2006</td>\n",
       "      <td>0.0</td>\n",
       "      <td>98027</td>\n",
       "      <td>47.5406</td>\n",
       "      <td>-121.982</td>\n",
       "      <td>6210</td>\n",
       "      <td>95832</td>\n",
       "    </tr>\n",
       "  </tbody>\n",
       "</table>\n",
       "</div>"
      ],
      "text/plain": [
       "            date      price  bedrooms  bathrooms  sqft_living  sqft_lot  \\\n",
       "19842  1/22/2015  2700000.0         4        4.0         7850     89651   \n",
       "\n",
       "       floors  waterfront  view  condition  grade  sqft_above sqft_basement  \\\n",
       "19842     2.0         0.0   0.0          3     12        7850           0.0   \n",
       "\n",
       "       yr_built  yr_renovated  zipcode      lat     long  sqft_living15  \\\n",
       "19842      2006           0.0    98027  47.5406 -121.982           6210   \n",
       "\n",
       "       sqft_lot15  \n",
       "19842       95832  "
      ]
     },
     "execution_count": 41,
     "metadata": {},
     "output_type": "execute_result"
    }
   ],
   "source": [
    "# Looks like we already got rid of one outlier.  Are there more?\n",
    "data.loc[data['sqft_living'] == 7850]"
   ]
  },
  {
   "cell_type": "code",
   "execution_count": 42,
   "metadata": {},
   "outputs": [],
   "source": [
    "# I guess it's just a big, expensive house.  Lots of bedrooms and bathrooms.  But is it an outlier still?"
   ]
  },
  {
   "cell_type": "code",
   "execution_count": 43,
   "metadata": {},
   "outputs": [
    {
     "data": {
      "text/plain": [
       "4637.084641688006"
      ]
     },
     "execution_count": 43,
     "metadata": {},
     "output_type": "execute_result"
    }
   ],
   "source": [
    "# What are three standard deviations from the mean?\n",
    "data.sqft_living.std()*3 + data.sqft_living.mean()"
   ]
  },
  {
   "cell_type": "code",
   "execution_count": 44,
   "metadata": {},
   "outputs": [
    {
     "data": {
      "text/plain": [
       "213"
      ]
     },
     "execution_count": 44,
     "metadata": {},
     "output_type": "execute_result"
    }
   ],
   "source": [
    "# How many houses fall outside of this?\n",
    "len(data.loc[data[\"sqft_living\"] > 4637.08])"
   ]
  },
  {
   "cell_type": "code",
   "execution_count": 45,
   "metadata": {},
   "outputs": [],
   "source": [
    "# Let's delete those outliers\n",
    "data = data[data.sqft_living < 4637.08]"
   ]
  },
  {
   "cell_type": "code",
   "execution_count": 46,
   "metadata": {},
   "outputs": [
    {
     "data": {
      "text/plain": [
       "count    21145.000000\n",
       "mean      2018.699834\n",
       "std        799.237984\n",
       "min        370.000000\n",
       "25%       1410.000000\n",
       "50%       1890.000000\n",
       "75%       2500.000000\n",
       "max       4620.000000\n",
       "Name: sqft_living, dtype: float64"
      ]
     },
     "execution_count": 46,
     "metadata": {},
     "output_type": "execute_result"
    }
   ],
   "source": [
    "data.sqft_living.describe()"
   ]
  },
  {
   "cell_type": "markdown",
   "metadata": {},
   "source": [
    "#### What is an average 'sqft_lot' size?"
   ]
  },
  {
   "cell_type": "code",
   "execution_count": 47,
   "metadata": {},
   "outputs": [
    {
     "data": {
      "text/plain": [
       "14575.311799479783"
      ]
     },
     "execution_count": 47,
     "metadata": {},
     "output_type": "execute_result"
    }
   ],
   "source": [
    "# The average lot size is about a third of an acre?  43,560 sqft is an acre, but I don't really speak acres.\n",
    "data.sqft_lot.mean()"
   ]
  },
  {
   "cell_type": "code",
   "execution_count": 48,
   "metadata": {},
   "outputs": [
    {
     "data": {
      "text/plain": [
       "58301.24719791913"
      ]
     },
     "execution_count": 48,
     "metadata": {},
     "output_type": "execute_result"
    }
   ],
   "source": [
    "# Mean plus three standard deviations.\n",
    "data.sqft_lot.mean() + data.sqft_lot.mean()*3"
   ]
  },
  {
   "cell_type": "code",
   "execution_count": 49,
   "metadata": {},
   "outputs": [
    {
     "data": {
      "text/plain": [
       "677"
      ]
     },
     "execution_count": 49,
     "metadata": {},
     "output_type": "execute_result"
    }
   ],
   "source": [
    "# Number of homes that above the range.\n",
    "len(data.loc[data[\"sqft_lot\"] > 58301.24])"
   ]
  },
  {
   "cell_type": "code",
   "execution_count": 50,
   "metadata": {},
   "outputs": [],
   "source": [
    "# That's a lot of houses!"
   ]
  },
  {
   "cell_type": "code",
   "execution_count": 51,
   "metadata": {},
   "outputs": [],
   "source": [
    "# Delete all those rows... they are outliers.\n",
    "data = data[data.sqft_lot < 58301.24]"
   ]
  },
  {
   "cell_type": "code",
   "execution_count": 52,
   "metadata": {},
   "outputs": [
    {
     "data": {
      "text/plain": [
       "count    20468.000000\n",
       "mean      9339.138949\n",
       "std       8301.053419\n",
       "min        520.000000\n",
       "25%       5000.000000\n",
       "50%       7430.000000\n",
       "75%      10045.250000\n",
       "max      58157.000000\n",
       "Name: sqft_lot, dtype: float64"
      ]
     },
     "execution_count": 52,
     "metadata": {},
     "output_type": "execute_result"
    }
   ],
   "source": [
    "data.sqft_lot.describe()"
   ]
  },
  {
   "cell_type": "markdown",
   "metadata": {},
   "source": [
    "#### Where can I find information on how King County 'grades' their homes?"
   ]
  },
  {
   "cell_type": "code",
   "execution_count": 53,
   "metadata": {},
   "outputs": [
    {
     "data": {
      "text/plain": [
       "array([ 7,  6,  8,  9,  5, 10, 11,  4, 12,  3, 13])"
      ]
     },
     "execution_count": 53,
     "metadata": {},
     "output_type": "execute_result"
    }
   ],
   "source": [
    "data.grade.unique()"
   ]
  },
  {
   "cell_type": "code",
   "execution_count": 54,
   "metadata": {},
   "outputs": [],
   "source": [
    "# Can I bin these?  Let's do it later."
   ]
  },
  {
   "cell_type": "markdown",
   "metadata": {},
   "source": [
    "#### 'Basements'? Can I just say YES/NO to make it easier?"
   ]
  },
  {
   "cell_type": "code",
   "execution_count": 55,
   "metadata": {},
   "outputs": [
    {
     "data": {
      "text/plain": [
       "265"
      ]
     },
     "execution_count": 55,
     "metadata": {},
     "output_type": "execute_result"
    }
   ],
   "source": [
    "# Number of unique basement sizes.\n",
    "data.sqft_basement.nunique()"
   ]
  },
  {
   "cell_type": "code",
   "execution_count": 56,
   "metadata": {},
   "outputs": [
    {
     "data": {
      "text/plain": [
       "0.0      12197\n",
       "?          425\n",
       "600.0      210\n",
       "500.0      205\n",
       "700.0      205\n",
       "Name: sqft_basement, dtype: int64"
      ]
     },
     "execution_count": 56,
     "metadata": {},
     "output_type": "execute_result"
    }
   ],
   "source": [
    "# Is there anything else hidding in there?\n",
    "data.sqft_basement.value_counts().head()"
   ]
  },
  {
   "cell_type": "code",
   "execution_count": 57,
   "metadata": {},
   "outputs": [],
   "source": [
    "# After looking at .unique(), I see that there are lots of different basements, including \"0\".\n",
    "# Plus, 454 of them are \"?\""
   ]
  },
  {
   "cell_type": "code",
   "execution_count": 58,
   "metadata": {},
   "outputs": [],
   "source": [
    "# Let's just change them to '0'  - either you have a basement or not.\n",
    "data.sqft_basement = data.sqft_basement.replace(to_replace = '?', value = 0)"
   ]
  },
  {
   "cell_type": "code",
   "execution_count": 59,
   "metadata": {},
   "outputs": [
    {
     "data": {
      "text/html": [
       "<div>\n",
       "<style scoped>\n",
       "    .dataframe tbody tr th:only-of-type {\n",
       "        vertical-align: middle;\n",
       "    }\n",
       "\n",
       "    .dataframe tbody tr th {\n",
       "        vertical-align: top;\n",
       "    }\n",
       "\n",
       "    .dataframe thead th {\n",
       "        text-align: right;\n",
       "    }\n",
       "</style>\n",
       "<table border=\"1\" class=\"dataframe\">\n",
       "  <thead>\n",
       "    <tr style=\"text-align: right;\">\n",
       "      <th></th>\n",
       "      <th>date</th>\n",
       "      <th>price</th>\n",
       "      <th>bedrooms</th>\n",
       "      <th>bathrooms</th>\n",
       "      <th>sqft_living</th>\n",
       "      <th>sqft_lot</th>\n",
       "      <th>floors</th>\n",
       "      <th>waterfront</th>\n",
       "      <th>view</th>\n",
       "      <th>condition</th>\n",
       "      <th>grade</th>\n",
       "      <th>sqft_above</th>\n",
       "      <th>sqft_basement</th>\n",
       "      <th>yr_built</th>\n",
       "      <th>yr_renovated</th>\n",
       "      <th>zipcode</th>\n",
       "      <th>lat</th>\n",
       "      <th>long</th>\n",
       "      <th>sqft_living15</th>\n",
       "      <th>sqft_lot15</th>\n",
       "    </tr>\n",
       "  </thead>\n",
       "  <tbody>\n",
       "  </tbody>\n",
       "</table>\n",
       "</div>"
      ],
      "text/plain": [
       "Empty DataFrame\n",
       "Columns: [date, price, bedrooms, bathrooms, sqft_living, sqft_lot, floors, waterfront, view, condition, grade, sqft_above, sqft_basement, yr_built, yr_renovated, zipcode, lat, long, sqft_living15, sqft_lot15]\n",
       "Index: []"
      ]
     },
     "execution_count": 59,
     "metadata": {},
     "output_type": "execute_result"
    }
   ],
   "source": [
    "# Looks like they are gone!\n",
    "data.loc[data['sqft_basement'] == '?']"
   ]
  },
  {
   "cell_type": "code",
   "execution_count": 60,
   "metadata": {},
   "outputs": [
    {
     "data": {
      "text/plain": [
       "count     20468\n",
       "unique      265\n",
       "top         0.0\n",
       "freq      12197\n",
       "Name: sqft_basement, dtype: object"
      ]
     },
     "execution_count": 60,
     "metadata": {},
     "output_type": "execute_result"
    }
   ],
   "source": [
    "data.sqft_basement.describe()"
   ]
  },
  {
   "cell_type": "code",
   "execution_count": 61,
   "metadata": {},
   "outputs": [],
   "source": [
    "# Let's also fill in those Nan's with the median.\n",
    "data.sqft_basement.fillna(value=data.sqft_basement.median(), inplace = True)"
   ]
  },
  {
   "cell_type": "code",
   "execution_count": 62,
   "metadata": {},
   "outputs": [],
   "source": [
    "# Since 'basement' also came up as an 'object' I'm going to change them to floats.\n",
    "data['sqft_basement'] = data['sqft_basement'].astype(float)"
   ]
  },
  {
   "cell_type": "code",
   "execution_count": 63,
   "metadata": {},
   "outputs": [
    {
     "data": {
      "text/plain": [
       "count    20468.000000\n",
       "mean       273.150088\n",
       "std        414.741276\n",
       "min          0.000000\n",
       "25%          0.000000\n",
       "50%          0.000000\n",
       "75%        530.000000\n",
       "max       2330.000000\n",
       "Name: sqft_basement, dtype: float64"
      ]
     },
     "execution_count": 63,
     "metadata": {},
     "output_type": "execute_result"
    }
   ],
   "source": [
    "data.sqft_basement.describe()"
   ]
  },
  {
   "cell_type": "code",
   "execution_count": 64,
   "metadata": {},
   "outputs": [],
   "source": [
    "# There are still lots of zeros in this column. Perhaps it's better to bin these?  Soon enough..."
   ]
  },
  {
   "cell_type": "markdown",
   "metadata": {},
   "source": [
    "#### How important is 'sqft_above'?  Especially since I know the total?"
   ]
  },
  {
   "cell_type": "code",
   "execution_count": 65,
   "metadata": {},
   "outputs": [
    {
     "data": {
      "text/plain": [
       "count    20468.000000\n",
       "mean      1722.457788\n",
       "std        733.187210\n",
       "min        370.000000\n",
       "25%       1180.000000\n",
       "50%       1530.000000\n",
       "75%       2130.000000\n",
       "max       4620.000000\n",
       "Name: sqft_above, dtype: float64"
      ]
     },
     "execution_count": 65,
     "metadata": {},
     "output_type": "execute_result"
    }
   ],
   "source": [
    "# 'sqft_above' seems continuous.  Or is this number really just the total sqaure foot minus the basement?\n",
    "data.sqft_above.describe()"
   ]
  },
  {
   "cell_type": "code",
   "execution_count": 66,
   "metadata": {},
   "outputs": [
    {
     "data": {
      "text/plain": [
       "<matplotlib.axes._subplots.AxesSubplot at 0x11653ea58>"
      ]
     },
     "execution_count": 66,
     "metadata": {},
     "output_type": "execute_result"
    },
    {
     "data": {
      "image/png": "[encoded data removed]",
      "text/plain": [
       "<Figure size 432x288 with 1 Axes>"
      ]
     },
     "metadata": {
      "needs_background": "light"
     },
     "output_type": "display_data"
    }
   ],
   "source": [
    "# Let's look at a histogram of this.  Gonna need matplotlib library!\n",
    "import matplotlib.pyplot as plt\n",
    "%matplotlib inline\n",
    "data.sqft_above.hist()"
   ]
  },
  {
   "cell_type": "code",
   "execution_count": 67,
   "metadata": {},
   "outputs": [
    {
     "data": {
      "text/plain": [
       "3922.0194188583328"
      ]
     },
     "execution_count": 67,
     "metadata": {},
     "output_type": "execute_result"
    }
   ],
   "source": [
    "# Again, using 3 standard deviations to predict outliers\n",
    "data.sqft_above.mean()+data.sqft_above.std()*3"
   ]
  },
  {
   "cell_type": "code",
   "execution_count": 68,
   "metadata": {},
   "outputs": [],
   "source": [
    "# Let's get rid of the outliers\n",
    "data = data[data.sqft_living15 < 3922.01]"
   ]
  },
  {
   "cell_type": "code",
   "execution_count": 69,
   "metadata": {},
   "outputs": [
    {
     "data": {
      "text/plain": [
       "<matplotlib.axes._subplots.AxesSubplot at 0x114b5eeb8>"
      ]
     },
     "execution_count": 69,
     "metadata": {},
     "output_type": "execute_result"
    },
    {
     "data": {
      "image/png": "[encoded data removed]",
      "text/plain": [
       "<Figure size 432x288 with 1 Axes>"
      ]
     },
     "metadata": {
      "needs_background": "light"
     },
     "output_type": "display_data"
    }
   ],
   "source": [
    "# The histogram looks pretty similar.\n",
    "data.sqft_above.hist()"
   ]
  },
  {
   "cell_type": "code",
   "execution_count": 70,
   "metadata": {},
   "outputs": [],
   "source": [
    "# Also, is this features going to effect the multicollinearity?"
   ]
  },
  {
   "cell_type": "markdown",
   "metadata": {},
   "source": [
    "#### What does the 'condition' feature look like?"
   ]
  },
  {
   "cell_type": "code",
   "execution_count": 71,
   "metadata": {},
   "outputs": [
    {
     "data": {
      "text/plain": [
       "array([3, 5, 4, 1, 2])"
      ]
     },
     "execution_count": 71,
     "metadata": {},
     "output_type": "execute_result"
    }
   ],
   "source": [
    "data.condition.unique()"
   ]
  },
  {
   "cell_type": "code",
   "execution_count": 72,
   "metadata": {},
   "outputs": [],
   "source": [
    "# Should I consider binning these? Most of them are '3'.  Seems like it's a categorical feature.  Let's do it later."
   ]
  },
  {
   "cell_type": "code",
   "execution_count": 73,
   "metadata": {},
   "outputs": [
    {
     "data": {
      "text/plain": [
       "Text(0.5, 1.0, 'Condition of King County Homes')"
      ]
     },
     "execution_count": 73,
     "metadata": {},
     "output_type": "execute_result"
    },
    {
     "data": {
      "image/png": "[encoded data removed]",
      "text/plain": [
       "<Figure size 432x288 with 1 Axes>"
      ]
     },
     "metadata": {
      "needs_background": "light"
     },
     "output_type": "display_data"
    }
   ],
   "source": [
    "# Let's take a look at a scatter plot of this feature\n",
    "plt.scatter(y=data['price'], x=data['condition'], color='blue')\n",
    "plt.ylabel('Price',fontsize=16)\n",
    "plt.xlabel('Condition',fontsize=16)\n",
    "plt.title(\"Condition of King County Homes\", fontsize=20)"
   ]
  },
  {
   "cell_type": "code",
   "execution_count": 74,
   "metadata": {},
   "outputs": [],
   "source": [
    "# Looks like 'condition' is categorecal and could be binned."
   ]
  },
  {
   "cell_type": "markdown",
   "metadata": {},
   "source": [
    "#### Neighboring 'living size' has entries way beyond the 3 standard deviations."
   ]
  },
  {
   "cell_type": "code",
   "execution_count": 75,
   "metadata": {},
   "outputs": [
    {
     "data": {
      "text/plain": [
       "<matplotlib.axes._subplots.AxesSubplot at 0x116642278>"
      ]
     },
     "execution_count": 75,
     "metadata": {},
     "output_type": "execute_result"
    },
    {
     "data": {
      "image/png": "[encoded data removed]",
      "text/plain": [
       "<Figure size 432x288 with 1 Axes>"
      ]
     },
     "metadata": {
      "needs_background": "light"
     },
     "output_type": "display_data"
    }
   ],
   "source": [
    "# Let's look at the histogram.\n",
    "data.sqft_living15.hist()"
   ]
  },
  {
   "cell_type": "code",
   "execution_count": 76,
   "metadata": {},
   "outputs": [
    {
     "data": {
      "text/plain": [
       "3759.218398125715"
      ]
     },
     "execution_count": 76,
     "metadata": {},
     "output_type": "execute_result"
    }
   ],
   "source": [
    "# Again, using 3 standard deviations to predict outliers\n",
    "data.sqft_living15.mean()+data.sqft_living15.std()*3"
   ]
  },
  {
   "cell_type": "code",
   "execution_count": 77,
   "metadata": {},
   "outputs": [
    {
     "data": {
      "text/plain": [
       "97"
      ]
     },
     "execution_count": 77,
     "metadata": {},
     "output_type": "execute_result"
    }
   ],
   "source": [
    "# There's some neighbors that we can eliminate.\n",
    "len(data.loc[data[\"sqft_living15\"] > 3759.21])"
   ]
  },
  {
   "cell_type": "code",
   "execution_count": 78,
   "metadata": {},
   "outputs": [],
   "source": [
    "# Let's get rid of the outliers\n",
    "data = data[data.sqft_living15 < 3759.21]"
   ]
  },
  {
   "cell_type": "code",
   "execution_count": 79,
   "metadata": {},
   "outputs": [
    {
     "data": {
      "text/plain": [
       "<matplotlib.axes._subplots.AxesSubplot at 0x1166430b8>"
      ]
     },
     "execution_count": 79,
     "metadata": {},
     "output_type": "execute_result"
    },
    {
     "data": {
      "image/png": "[encoded data removed]",
      "text/plain": [
       "<Figure size 432x288 with 1 Axes>"
      ]
     },
     "metadata": {
      "needs_background": "light"
     },
     "output_type": "display_data"
    }
   ],
   "source": [
    "# Let's look at the right skewed histogram - a little better.\n",
    "data.sqft_living15.hist()"
   ]
  },
  {
   "cell_type": "markdown",
   "metadata": {},
   "source": [
    "#### Neighboring 'lot size' has a bunch of big values."
   ]
  },
  {
   "cell_type": "code",
   "execution_count": 80,
   "metadata": {},
   "outputs": [
    {
     "data": {
      "text/plain": [
       "count     20208.000000\n",
       "mean       9108.058145\n",
       "std       10680.629093\n",
       "min         651.000000\n",
       "25%        5000.000000\n",
       "50%        7461.500000\n",
       "75%        9638.000000\n",
       "max      380279.000000\n",
       "Name: sqft_lot15, dtype: float64"
      ]
     },
     "execution_count": 80,
     "metadata": {},
     "output_type": "execute_result"
    }
   ],
   "source": [
    "data.sqft_lot15.describe()"
   ]
  },
  {
   "cell_type": "code",
   "execution_count": 81,
   "metadata": {},
   "outputs": [
    {
     "data": {
      "text/plain": [
       "41149.94542428007"
      ]
     },
     "execution_count": 81,
     "metadata": {},
     "output_type": "execute_result"
    }
   ],
   "source": [
    "# Let's do the same here.\n",
    "data.sqft_lot15.mean() + data.sqft_lot15.std()*3"
   ]
  },
  {
   "cell_type": "code",
   "execution_count": 82,
   "metadata": {},
   "outputs": [
    {
     "data": {
      "text/plain": [
       "311"
      ]
     },
     "execution_count": 82,
     "metadata": {},
     "output_type": "execute_result"
    }
   ],
   "source": [
    "# How many are there?\n",
    "len(data.loc[data[\"sqft_lot15\"] > 41254.21])"
   ]
  },
  {
   "cell_type": "code",
   "execution_count": 83,
   "metadata": {},
   "outputs": [],
   "source": [
    "# Let's get rid of the outliers\n",
    "data = data[data.sqft_lot15 < 41254.21]"
   ]
  },
  {
   "cell_type": "code",
   "execution_count": 84,
   "metadata": {},
   "outputs": [
    {
     "data": {
      "text/plain": [
       "<matplotlib.axes._subplots.AxesSubplot at 0x116e00080>"
      ]
     },
     "execution_count": 84,
     "metadata": {},
     "output_type": "execute_result"
    },
    {
     "data": {
      "image/png": "[encoded data removed]",
      "text/plain": [
       "<Figure size 432x288 with 1 Axes>"
      ]
     },
     "metadata": {
      "needs_background": "light"
     },
     "output_type": "display_data"
    }
   ],
   "source": [
    "# Still pretty right skewed!  Maybe Log Transformations?  I'll work on that later.\n",
    "data.sqft_lot15.hist()"
   ]
  },
  {
   "cell_type": "code",
   "execution_count": 85,
   "metadata": {},
   "outputs": [],
   "source": [
    "# These numbers seem continuous, especially if you speak square footage.\n",
    "# Also, are these related to zipcode?  Usually neighborhoods have similar sized houses!"
   ]
  },
  {
   "cell_type": "markdown",
   "metadata": {},
   "source": [
    "#### Still have to deal with zipcode, lat, and long"
   ]
  },
  {
   "cell_type": "code",
   "execution_count": 86,
   "metadata": {},
   "outputs": [],
   "source": [
    "# 'zipcode' is somehow related to 'lat' and 'long' right?!"
   ]
  },
  {
   "cell_type": "markdown",
   "metadata": {},
   "source": [
    "#### The 'yr_built' feature seems pretty standard. But is it continuous?"
   ]
  },
  {
   "cell_type": "code",
   "execution_count": 87,
   "metadata": {},
   "outputs": [
    {
     "data": {
      "text/plain": [
       "array([1955, 1951, 1933, 1965, 1987, 1995, 1963, 1960, 2003, 1942, 1927,\n",
       "       1977, 1900, 1979, 1994, 1916, 1921, 1969, 1947, 1985, 1941, 1915,\n",
       "       1909, 1948, 2005, 1929, 1981, 1930, 1904, 1996, 2000, 1984, 2014,\n",
       "       1922, 1959, 1966, 1953, 1950, 2008, 1968, 1991, 1954, 1973, 1925,\n",
       "       1989, 1972, 1986, 1956, 2002, 1992, 1964, 1952, 1961, 2006, 1988,\n",
       "       2001, 1962, 1939, 1946, 1967, 1975, 1910, 1978, 1905, 1980, 1971,\n",
       "       2010, 1945, 1924, 1990, 1914, 1926, 2004, 1923, 1976, 1949, 1999,\n",
       "       1901, 1993, 1920, 2007, 1943, 1983, 1940, 1918, 1928, 1974, 1911,\n",
       "       1936, 1937, 1908, 1931, 1957, 1998, 1913, 2013, 1907, 1997, 1958,\n",
       "       2012, 1912, 2011, 1917, 1932, 1944, 1902, 2009, 1903, 1970, 1982,\n",
       "       2015, 1934, 1938, 1919, 1906, 1935])"
      ]
     },
     "execution_count": 87,
     "metadata": {},
     "output_type": "execute_result"
    }
   ],
   "source": [
    "data.yr_built.unique()"
   ]
  },
  {
   "cell_type": "code",
   "execution_count": 88,
   "metadata": {},
   "outputs": [],
   "source": [
    "# Perhaps I can do something with these numbers to even them out."
   ]
  },
  {
   "cell_type": "code",
   "execution_count": 89,
   "metadata": {},
   "outputs": [
    {
     "data": {
      "text/plain": [
       "<matplotlib.axes._subplots.AxesSubplot at 0x116d99630>"
      ]
     },
     "execution_count": 89,
     "metadata": {},
     "output_type": "execute_result"
    },
    {
     "data": {
      "image/png": "[encoded data removed]",
      "text/plain": [
       "<Figure size 432x288 with 1 Axes>"
      ]
     },
     "metadata": {
      "needs_background": "light"
     },
     "output_type": "display_data"
    }
   ],
   "source": [
    "data.yr_built.hist()"
   ]
  },
  {
   "cell_type": "code",
   "execution_count": 90,
   "metadata": {},
   "outputs": [],
   "source": [
    "# Is this a left skewed histogram? Do I have to do anything to it? The numbers seem pretty continuous."
   ]
  },
  {
   "cell_type": "markdown",
   "metadata": {},
   "source": [
    "#### The 'year renovated' is certainly going to be more difficult."
   ]
  },
  {
   "cell_type": "code",
   "execution_count": 91,
   "metadata": {},
   "outputs": [
    {
     "data": {
      "text/plain": [
       "array([   0., 1991.,   nan, 2002., 2010., 1992., 2013., 1994., 1978.,\n",
       "       2005., 2003., 1984., 2014., 2011., 1983., 1945., 1990., 1988.,\n",
       "       1977., 1981., 1995., 2000., 1999., 1998., 1970., 2004., 1986.,\n",
       "       2007., 1987., 2006., 1985., 2001., 1980., 1971., 1979., 1997.,\n",
       "       1950., 1969., 1948., 2009., 2015., 1974., 2008., 1968., 1989.,\n",
       "       2012., 1951., 1962., 1953., 1993., 1955., 1996., 1982., 1963.,\n",
       "       1940., 1976., 1946., 1975., 1964., 1973., 1957., 1959., 1960.,\n",
       "       1956., 1967., 1965., 1934., 1972., 1944., 1958.])"
      ]
     },
     "execution_count": 91,
     "metadata": {},
     "output_type": "execute_result"
    }
   ],
   "source": [
    "data.yr_renovated.unique()"
   ]
  },
  {
   "cell_type": "code",
   "execution_count": 92,
   "metadata": {},
   "outputs": [],
   "source": [
    "# Some how I have to deal with these. Most of them have not been renovated.  Some are 'Nan'. \n",
    "# Can I bin them into a few groups - recently renovated, renovated a while ago, and not at all?"
   ]
  },
  {
   "cell_type": "code",
   "execution_count": 93,
   "metadata": {},
   "outputs": [],
   "source": [
    "# Let's fill in the \"Nan's\" with 0.\n",
    "data.yr_renovated.fillna(value=data.yr_renovated.median(), inplace = True)"
   ]
  },
  {
   "cell_type": "code",
   "execution_count": 94,
   "metadata": {},
   "outputs": [
    {
     "data": {
      "text/plain": [
       "count    19897.000000\n",
       "mean        66.618385\n",
       "std        358.557224\n",
       "min          0.000000\n",
       "25%          0.000000\n",
       "50%          0.000000\n",
       "75%          0.000000\n",
       "max       2015.000000\n",
       "Name: yr_renovated, dtype: float64"
      ]
     },
     "execution_count": 94,
     "metadata": {},
     "output_type": "execute_result"
    }
   ],
   "source": [
    "data.yr_renovated.describe()"
   ]
  },
  {
   "cell_type": "code",
   "execution_count": 95,
   "metadata": {},
   "outputs": [],
   "source": [
    "# I think I want to bin them.  I'll do all the binning in a bit..."
   ]
  },
  {
   "cell_type": "code",
   "execution_count": 96,
   "metadata": {},
   "outputs": [
    {
     "name": "stderr",
     "output_type": "stream",
     "text": [
      "//anaconda3/envs/learn-env/lib/python3.6/site-packages/scipy/stats/stats.py:1713: FutureWarning: Using a non-tuple sequence for multidimensional indexing is deprecated; use `arr[tuple(seq)]` instead of `arr[seq]`. In the future this will be interpreted as an array index, `arr[np.array(seq)]`, which will result either in an error or a different result.\n",
      "  return np.add.reduce(sorted[indexer] * weights, axis=axis) / sumval\n"
     ]
    },
    {
     "data": {
      "image/png": "[encoded data removed]",
      "text/plain": [
       "<Figure size 432x288 with 1 Axes>"
      ]
     },
     "metadata": {},
     "output_type": "display_data"
    }
   ],
   "source": [
    "# Let's take a look at a scatter plot here. And I'm going to make it fancy with 'seaborn'!\n",
    "import seaborn as sns; sns.set(color_codes=True)\n",
    "ax = sns.regplot(y=data[\"price\"], x=data[\"yr_renovated\"], data=data, color=\"green\");\n",
    "plt.title(\"Year Renovated vs. Price\", fontsize=20);\n",
    "plt.ylabel('Price',fontsize=16);\n",
    "plt.xlabel('Year Renovated',fontsize=16);"
   ]
  },
  {
   "cell_type": "code",
   "execution_count": 97,
   "metadata": {},
   "outputs": [],
   "source": [
    "# That's a lot of zeros effect the line.  "
   ]
  },
  {
   "cell_type": "markdown",
   "metadata": {},
   "source": [
    "#### Let's look at the feature \"date\"."
   ]
  },
  {
   "cell_type": "code",
   "execution_count": 98,
   "metadata": {},
   "outputs": [
    {
     "data": {
      "text/plain": [
       "count         19897\n",
       "unique          371\n",
       "top       6/23/2014\n",
       "freq            131\n",
       "Name: date, dtype: object"
      ]
     },
     "execution_count": 98,
     "metadata": {},
     "output_type": "execute_result"
    }
   ],
   "source": [
    "# Not sure what to do but I'm especially confused by the fact that is says, \"object\"\n",
    "data.date.describe()"
   ]
  },
  {
   "cell_type": "code",
   "execution_count": 99,
   "metadata": {},
   "outputs": [],
   "source": [
    "# I'll try to change them to something different, perhaps a float.\n",
    "import datetime as dt\n",
    "data['date'] = pd.to_datetime(data['date'])\n",
    "data['date'] = data['date'].map(dt.datetime.toordinal)\n"
   ]
  },
  {
   "cell_type": "code",
   "execution_count": 100,
   "metadata": {},
   "outputs": [
    {
     "data": {
      "text/plain": [
       "count     19897.000000\n",
       "mean     735535.578429\n",
       "std         112.894839\n",
       "min      735355.000000\n",
       "25%      735436.000000\n",
       "50%      735522.000000\n",
       "75%      735646.000000\n",
       "max      735745.000000\n",
       "Name: date, dtype: float64"
      ]
     },
     "execution_count": 100,
     "metadata": {},
     "output_type": "execute_result"
    }
   ],
   "source": [
    "data.date.describe()"
   ]
  },
  {
   "cell_type": "code",
   "execution_count": 101,
   "metadata": {},
   "outputs": [
    {
     "data": {
      "text/plain": [
       "<matplotlib.axes._subplots.AxesSubplot at 0x1a18f06358>"
      ]
     },
     "execution_count": 101,
     "metadata": {},
     "output_type": "execute_result"
    },
    {
     "data": {
      "image/png": "[encoded data removed]",
      "text/plain": [
       "<Figure size 432x288 with 1 Axes>"
      ]
     },
     "metadata": {
      "needs_background": "light"
     },
     "output_type": "display_data"
    }
   ],
   "source": [
    "# I just want to look at those dates... not sure what happened.\n",
    "import matplotlib.pyplot as plt\n",
    "%matplotlib inline\n",
    "data.date.hist()"
   ]
  },
  {
   "cell_type": "markdown",
   "metadata": {},
   "source": [
    "#### Thought I would check for duplicates."
   ]
  },
  {
   "cell_type": "code",
   "execution_count": 102,
   "metadata": {},
   "outputs": [
    {
     "name": "stdout",
     "output_type": "stream",
     "text": [
      "0\n"
     ]
    }
   ],
   "source": [
    "duplicates = data[data.duplicated()]\n",
    "print(len(duplicates))\n"
   ]
  },
  {
   "cell_type": "markdown",
   "metadata": {},
   "source": [
    "So I checked duplicates before dropping the 'id' and it shows that 177 of the homes are repeats.\n",
    "This is probably because they were sold more than once.  \n",
    "First, it's a really small number. \n",
    "Second, all the info is there and the price/date changed. So it's essentially a different house."
   ]
  },
  {
   "cell_type": "markdown",
   "metadata": {},
   "source": [
    "#### Here I just wanted to look at value counts for all features to see if I'm missing anything.  But it's only the top 5, so I might need to look at some of them individually."
   ]
  },
  {
   "cell_type": "code",
   "execution_count": 103,
   "metadata": {},
   "outputs": [
    {
     "name": "stdout",
     "output_type": "stream",
     "text": [
      "date \n",
      " 735407    0.006584\n",
      "735409    0.006182\n",
      "735410    0.005981\n",
      "735422    0.005880\n",
      "735715    0.005830\n",
      "Name: date, dtype: float64 \n",
      "\n",
      "\n",
      "price \n",
      " 350000.0    0.008142\n",
      "450000.0    0.007891\n",
      "550000.0    0.007539\n",
      "425000.0    0.007187\n",
      "325000.0    0.007137\n",
      "Name: price, dtype: float64 \n",
      "\n",
      "\n",
      "bedrooms \n",
      " 3    0.466553\n",
      "4    0.312107\n",
      "2    0.133487\n",
      "5    0.068352\n",
      "6    0.010303\n",
      "Name: bedrooms, dtype: float64 \n",
      "\n",
      "\n",
      "bathrooms \n",
      " 2.50    0.253154\n",
      "1.00    0.188169\n",
      "1.75    0.145499\n",
      "2.25    0.097100\n",
      "2.00    0.092275\n",
      "Name: bathrooms, dtype: float64 \n",
      "\n",
      "\n",
      "sqft_living \n",
      " 1300    0.006735\n",
      "1400    0.006634\n",
      "1660    0.006383\n",
      "1440    0.006383\n",
      "1010    0.006333\n",
      "Name: sqft_living, dtype: float64 \n",
      "\n",
      "\n",
      "sqft_lot \n",
      " 5000    0.017892\n",
      "6000    0.014223\n",
      "4000    0.012565\n",
      "7200    0.010755\n",
      "4800    0.005880\n",
      "Name: sqft_lot, dtype: float64 \n",
      "\n",
      "\n",
      "floors \n",
      " 1.0    0.508368\n",
      "2.0    0.366538\n",
      "1.5    0.089059\n",
      "3.0    0.029703\n",
      "2.5    0.006333\n",
      "Name: floors, dtype: float64 \n",
      "\n",
      "\n",
      "waterfront \n",
      " 0.0    0.995125\n",
      "1.0    0.004875\n",
      "Name: waterfront, dtype: float64 \n",
      "\n",
      "\n",
      "view \n",
      " 0.0    0.914057\n",
      "2.0    0.040157\n",
      "3.0    0.018897\n",
      "1.0    0.015178\n",
      "4.0    0.011710\n",
      "Name: view, dtype: float64 \n",
      "\n",
      "\n",
      "condition \n",
      " 3    0.645826\n",
      "4    0.264914\n",
      "5    0.080414\n",
      "2    0.007489\n",
      "1    0.001357\n",
      "Name: condition, dtype: float64 \n",
      "\n",
      "\n",
      "grade \n",
      " 7     0.434035\n",
      "8     0.289441\n",
      "9     0.116399\n",
      "6     0.098608\n",
      "10    0.041765\n",
      "Name: grade, dtype: float64 \n",
      "\n",
      "\n",
      "sqft_above \n",
      " 1300    0.010303\n",
      "1010    0.010253\n",
      "1200    0.010002\n",
      "1220    0.009298\n",
      "1060    0.008946\n",
      "Name: sqft_above, dtype: float64 \n",
      "\n",
      "\n",
      "sqft_basement \n",
      " 0.0      0.615771\n",
      "600.0    0.010253\n",
      "500.0    0.010152\n",
      "700.0    0.010052\n",
      "800.0    0.009650\n",
      "Name: sqft_basement, dtype: float64 \n",
      "\n",
      "\n",
      "yr_built \n",
      " 2014    0.026486\n",
      "2005    0.020355\n",
      "2006    0.020104\n",
      "2003    0.019551\n",
      "1977    0.019098\n",
      "Name: yr_built, dtype: float64 \n",
      "\n",
      "\n",
      "yr_renovated \n",
      " 0.0       0.966628\n",
      "2014.0    0.003669\n",
      "2013.0    0.001458\n",
      "2003.0    0.001357\n",
      "2007.0    0.001307\n",
      "Name: yr_renovated, dtype: float64 \n",
      "\n",
      "\n",
      "zipcode \n",
      " 98103    0.029904\n",
      "98115    0.029251\n",
      "98052    0.027693\n",
      "98117    0.027642\n",
      "98034    0.026687\n",
      "Name: zipcode, dtype: float64 \n",
      "\n",
      "\n",
      "lat \n",
      " 47.5322    0.000854\n",
      "47.6846    0.000854\n",
      "47.6711    0.000804\n",
      "47.6886    0.000804\n",
      "47.6904    0.000754\n",
      "Name: lat, dtype: float64 \n",
      "\n",
      "\n",
      "long \n",
      " -122.300    0.005579\n",
      "-122.290    0.005378\n",
      "-122.362    0.005126\n",
      "-122.372    0.004825\n",
      "-122.291    0.004825\n",
      "Name: long, dtype: float64 \n",
      "\n",
      "\n",
      "sqft_living15 \n",
      " 1540    0.009750\n",
      "1440    0.009348\n",
      "1560    0.009298\n",
      "1500    0.008946\n",
      "1610    0.008192\n",
      "Name: sqft_living15, dtype: float64 \n",
      "\n",
      "\n",
      "sqft_lot15 \n",
      " 5000    0.021410\n",
      "4000    0.017792\n",
      "6000    0.014173\n",
      "7200    0.010203\n",
      "4800    0.007187\n",
      "Name: sqft_lot15, dtype: float64 \n",
      "\n",
      "\n"
     ]
    }
   ],
   "source": [
    "for col in data.columns:\n",
    "    print(col, '\\n', data[col].value_counts(normalize=True).head(), '\\n\\n')"
   ]
  },
  {
   "cell_type": "markdown",
   "metadata": {},
   "source": [
    "#### Then I tried a histogram plot of all the features."
   ]
  },
  {
   "cell_type": "code",
   "execution_count": 104,
   "metadata": {},
   "outputs": [
    {
     "data": {
      "image/png": "[encoded data removed]",
      "text/plain": [
       "<Figure size 864x864 with 20 Axes>"
      ]
     },
     "metadata": {
      "needs_background": "light"
     },
     "output_type": "display_data"
    }
   ],
   "source": [
    "data.hist(figsize  = [12, 12]);"
   ]
  },
  {
   "cell_type": "markdown",
   "metadata": {},
   "source": [
    "Are all the graphs there?  Looks like 'waterfront', 'condition', 'floors', 'view', and possibly 'grade' are the categorical variables. "
   ]
  },
  {
   "cell_type": "markdown",
   "metadata": {},
   "source": [
    "## Heteroskedasticity and Linearity"
   ]
  },
  {
   "cell_type": "markdown",
   "metadata": {},
   "source": [
    "#### I also wanted to try a scatter matrix to look for continuous and non-continuous variables"
   ]
  },
  {
   "cell_type": "code",
   "execution_count": 105,
   "metadata": {},
   "outputs": [],
   "source": [
    "# Scatter matrix of all the features (Remove # below to run)\n",
    "#pd.plotting.scatter_matrix(data, figsize=(12,12));"
   ]
  },
  {
   "cell_type": "markdown",
   "metadata": {},
   "source": [
    "This takes a long time to load but it helped me see a number of concepts:\n",
    "* **If the features are continuous or categorical (though object features don't load)**\n",
    "* **I can also see features look like they have a linear relationship**\n",
    "* **And the scatter plots also help me see heteroskedasticity**"
   ]
  },
  {
   "cell_type": "markdown",
   "metadata": {},
   "source": [
    "I was able to individually look at the regplots of many of the features but couldn't figure out how to create a subplot that iterated through all columns verses the price."
   ]
  },
  {
   "cell_type": "markdown",
   "metadata": {},
   "source": [
    "## Multicollinearity of Features"
   ]
  },
  {
   "cell_type": "code",
   "execution_count": 106,
   "metadata": {},
   "outputs": [],
   "source": [
    "# Here I used the correlation matrix (Remove # below to run)\n",
    "# data.corr()"
   ]
  },
  {
   "cell_type": "code",
   "execution_count": 107,
   "metadata": {},
   "outputs": [],
   "source": [
    "# Here I looked at the same with the correlation set to .75 (Remove # below to run)\n",
    "# abs(data.corr()) > 0.75"
   ]
  },
  {
   "cell_type": "code",
   "execution_count": 108,
   "metadata": {},
   "outputs": [
    {
     "data": {
      "image/png": "[encoded data removed]",
      "text/plain": [
       "<Figure size 432x288 with 2 Axes>"
      ]
     },
     "metadata": {
      "needs_background": "light"
     },
     "output_type": "display_data"
    }
   ],
   "source": [
    "# I find the heat map to be the easiest to read.\n",
    "import seaborn as sns\n",
    "sns.heatmap(data.corr(), center=0);"
   ]
  },
  {
   "cell_type": "markdown",
   "metadata": {},
   "source": [
    "Looking at this heat map I can see that there are a couple of features that may cause multicollinearity. In particular 'sqft_above' and 'grade'.  But also the neighboring living_size and lot_size matter."
   ]
  },
  {
   "cell_type": "markdown",
   "metadata": {},
   "source": [
    "## King County Maps"
   ]
  },
  {
   "cell_type": "code",
   "execution_count": 109,
   "metadata": {},
   "outputs": [
    {
     "data": {
      "text/plain": [
       "Text(0.5, 1.0, 'King County Homes in Dataset')"
      ]
     },
     "execution_count": 109,
     "metadata": {},
     "output_type": "execute_result"
    },
    {
     "data": {
      "image/png": "[encoded data removed]",
      "text/plain": [
       "<Figure size 432x288 with 1 Axes>"
      ]
     },
     "metadata": {
      "needs_background": "light"
     },
     "output_type": "display_data"
    }
   ],
   "source": [
    "# This is an attempt to look at where the homes in the dataset are located.\n",
    "import seaborn as sns\n",
    "plt.scatter(data['long'],data['lat'])\n",
    "plt.xlabel('Longitude')\n",
    "plt.ylabel('Latitude')\n",
    "plt.title(\"King County Homes in Dataset\", fontsize=18)"
   ]
  },
  {
   "cell_type": "code",
   "execution_count": 110,
   "metadata": {},
   "outputs": [
    {
     "data": {
      "text/html": [
       "<div style=\"width:100%;\"><div style=\"position:relative;width:100%;height:0;padding-bottom:60%;\"><iframe src=\"data:text/html;charset=utf-8;base64,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\" style=\"position:absolute;width:100%;height:100%;left:0;top:0;border:none !important;\" allowfullscreen webkitallowfullscreen mozallowfullscreen></iframe></div></div>"
      ],
      "text/plain": [
       "<folium.folium.Map at 0x1a1a140cc0>"
      ]
     },
     "execution_count": 110,
     "metadata": {},
     "output_type": "execute_result"
    }
   ],
   "source": [
    "# Use folium to view a map of Seattle and surrounding area.\n",
    "import folium\n",
    "m = folium.Map(location=[47.5, -121.6], zoom_start=9, width=700, height=500)\n",
    "m.fit_bounds(\"1153346\")\n",
    "m\n",
    "# I can't get it to draw the King County boarder."
   ]
  },
  {
   "cell_type": "code",
   "execution_count": 111,
   "metadata": {},
   "outputs": [
    {
     "data": {
      "text/html": [
       "<img src=\"https://www.kingcounty.gov/~/media/operations/GIS/maps/vmc/images/zipcodes_586.ashx?la=en\" width=\"700\" height=\"500\"/>"
      ],
      "text/plain": [
       "<IPython.core.display.Image object>"
      ]
     },
     "execution_count": 111,
     "metadata": {},
     "output_type": "execute_result"
    }
   ],
   "source": [
    "# I viewed this zipcode map to get an idea of where the different zones were in King County.\n",
    "from IPython.display import Image\n",
    "from IPython.core.display import HTML \n",
    "Image(url= \"https://www.kingcounty.gov/~/media/operations/GIS/maps/vmc/images/zipcodes_586.ashx?la=en\", width=700, height=500)"
   ]
  },
  {
   "cell_type": "code",
   "execution_count": 112,
   "metadata": {},
   "outputs": [],
   "source": [
    "# Still not sure what to do with 'zipcodes'"
   ]
  },
  {
   "cell_type": "markdown",
   "metadata": {},
   "source": [
    "## Binning Categorical Data"
   ]
  },
  {
   "cell_type": "code",
   "execution_count": 113,
   "metadata": {},
   "outputs": [],
   "source": [
    "# Create bins for 'yr_renovated' based on the values observed. 6 values will result in 5 bins\n",
    "bins_A = [0, 1900, 1990, 2000, 2008, 2015]\n",
    "bins_yr_renovated = pd.cut(data['yr_renovated'], bins_A)\n",
    "bins_yr_renovated = bins_yr_renovated.cat.as_ordered()\n",
    "\n",
    "yr_renovated_dummy = pd.get_dummies(bins_yr_renovated, prefix=\"yr_ren\")\n",
    "data = data.drop([\"yr_renovated\"], axis=1)\n",
    "data = pd.concat([data, yr_renovated_dummy], axis=1)"
   ]
  },
  {
   "cell_type": "code",
   "execution_count": 114,
   "metadata": {},
   "outputs": [],
   "source": [
    "# Create bins for 'sqft_basement' based on the values observed. 3 values will result in 2 bins\n",
    "bins_B = [0, 100, 5000]\n",
    "bins_sqft_basement = pd.cut(data['sqft_basement'], bins_B)\n",
    "bins_sqft_basement = bins_sqft_basement.cat.as_ordered()\n",
    "\n",
    "sqft_basement_dummy = pd.get_dummies(bins_sqft_basement, prefix=\"sqft_base\", drop_first=True)\n",
    "data = data.drop([\"sqft_basement\"], axis=1)\n",
    "data = pd.concat([data, sqft_basement_dummy], axis=1)"
   ]
  },
  {
   "cell_type": "code",
   "execution_count": 115,
   "metadata": {},
   "outputs": [],
   "source": [
    "# Create bins for 'view' based on the values observed. 3 values will result in 2 bins\n",
    "bins_C = [0, 2, 4]\n",
    "bins_view = pd.cut(data['view'], bins_C)\n",
    "bins_view = bins_view.cat.as_ordered()\n",
    "\n",
    "view_dummy = pd.get_dummies(bins_view, prefix=\"new_view\", drop_first=True)\n",
    "data = data.drop([\"view\"], axis=1)\n",
    "data = pd.concat([data, view_dummy], axis=1)"
   ]
  },
  {
   "cell_type": "code",
   "execution_count": 116,
   "metadata": {},
   "outputs": [],
   "source": [
    "# Create bins for 'grade' based on the values observed. 3 values will result in 2 bins\n",
    "bins_D = [0, 5, 7, 13]\n",
    "bins_grade = pd.cut(data['grade'], bins_D)\n",
    "bins_grade = bins_grade.cat.as_ordered()\n",
    "\n",
    "grade_dummy = pd.get_dummies(bins_grade, prefix=\"new_grade\", drop_first=True)\n",
    "data = data.drop([\"grade\"], axis=1)\n",
    "data = pd.concat([data, grade_dummy], axis=1)"
   ]
  },
  {
   "cell_type": "code",
   "execution_count": 117,
   "metadata": {},
   "outputs": [],
   "source": [
    "# Create bins for 'waterfront' based on the values observed. 3 values will result in 2 bins\n",
    "# Not sure how to make only two bins without using the decimal.\n",
    "bins_E = [0, 0.5, 1]\n",
    "bins_waterfront = pd.cut(data['waterfront'], bins_E)\n",
    "bins_waterfront = bins_waterfront.cat.as_ordered()\n",
    "\n",
    "waterfront_dummy = pd.get_dummies(bins_waterfront, prefix=\"new_waterfront\", drop_first=True)\n",
    "data = data.drop([\"waterfront\"], axis=1)\n",
    "data = pd.concat([data, waterfront_dummy], axis=1)"
   ]
  },
  {
   "cell_type": "code",
   "execution_count": 118,
   "metadata": {},
   "outputs": [],
   "source": [
    "# Create bins for 'condition' based on the values observed. 6 values will result in 5 bins\n",
    "bins_G = [0, 1, 2, 3, 4, 5]\n",
    "bins_condition = pd.cut(data['condition'], bins_G)\n",
    "bins_condition = bins_condition.cat.as_ordered()\n",
    "\n",
    "condition_dummy = pd.get_dummies(bins_condition, prefix=\"new_condition\")\n",
    "data = data.drop([\"condition\"], axis=1)\n",
    "data = pd.concat([data, condition_dummy], axis=1)"
   ]
  },
  {
   "cell_type": "code",
   "execution_count": 119,
   "metadata": {},
   "outputs": [
    {
     "data": {
      "text/html": [
       "<div>\n",
       "<style scoped>\n",
       "    .dataframe tbody tr th:only-of-type {\n",
       "        vertical-align: middle;\n",
       "    }\n",
       "\n",
       "    .dataframe tbody tr th {\n",
       "        vertical-align: top;\n",
       "    }\n",
       "\n",
       "    .dataframe thead th {\n",
       "        text-align: right;\n",
       "    }\n",
       "</style>\n",
       "<table border=\"1\" class=\"dataframe\">\n",
       "  <thead>\n",
       "    <tr style=\"text-align: right;\">\n",
       "      <th></th>\n",
       "      <th>date</th>\n",
       "      <th>price</th>\n",
       "      <th>bedrooms</th>\n",
       "      <th>bathrooms</th>\n",
       "      <th>sqft_living</th>\n",
       "      <th>sqft_lot</th>\n",
       "      <th>floors</th>\n",
       "      <th>sqft_above</th>\n",
       "      <th>yr_built</th>\n",
       "      <th>zipcode</th>\n",
       "      <th>...</th>\n",
       "      <th>sqft_base_(100, 5000]</th>\n",
       "      <th>new_view_(2, 4]</th>\n",
       "      <th>new_grade_(5, 7]</th>\n",
       "      <th>new_grade_(7, 13]</th>\n",
       "      <th>new_waterfront_(0.5, 1.0]</th>\n",
       "      <th>new_condition_(0, 1]</th>\n",
       "      <th>new_condition_(1, 2]</th>\n",
       "      <th>new_condition_(2, 3]</th>\n",
       "      <th>new_condition_(3, 4]</th>\n",
       "      <th>new_condition_(4, 5]</th>\n",
       "    </tr>\n",
       "  </thead>\n",
       "  <tbody>\n",
       "    <tr>\n",
       "      <th>count</th>\n",
       "      <td>19897.000000</td>\n",
       "      <td>1.989700e+04</td>\n",
       "      <td>19897.000000</td>\n",
       "      <td>19897.00000</td>\n",
       "      <td>19897.000000</td>\n",
       "      <td>19897.000000</td>\n",
       "      <td>19897.000000</td>\n",
       "      <td>19897.000000</td>\n",
       "      <td>19897.000000</td>\n",
       "      <td>19897.000000</td>\n",
       "      <td>...</td>\n",
       "      <td>19897.000000</td>\n",
       "      <td>19897.000000</td>\n",
       "      <td>19897.000000</td>\n",
       "      <td>19897.000000</td>\n",
       "      <td>19897.000000</td>\n",
       "      <td>19897.000000</td>\n",
       "      <td>19897.000000</td>\n",
       "      <td>19897.000000</td>\n",
       "      <td>19897.000000</td>\n",
       "      <td>19897.000000</td>\n",
       "    </tr>\n",
       "    <tr>\n",
       "      <th>mean</th>\n",
       "      <td>735535.578429</td>\n",
       "      <td>5.042779e+05</td>\n",
       "      <td>3.327838</td>\n",
       "      <td>2.05188</td>\n",
       "      <td>1970.814997</td>\n",
       "      <td>8719.185204</td>\n",
       "      <td>1.479972</td>\n",
       "      <td>1694.283812</td>\n",
       "      <td>1970.085339</td>\n",
       "      <td>98080.256923</td>\n",
       "      <td>...</td>\n",
       "      <td>0.378348</td>\n",
       "      <td>0.030608</td>\n",
       "      <td>0.532643</td>\n",
       "      <td>0.454893</td>\n",
       "      <td>0.004875</td>\n",
       "      <td>0.001357</td>\n",
       "      <td>0.007489</td>\n",
       "      <td>0.645826</td>\n",
       "      <td>0.264914</td>\n",
       "      <td>0.080414</td>\n",
       "    </tr>\n",
       "    <tr>\n",
       "      <th>std</th>\n",
       "      <td>112.894839</td>\n",
       "      <td>2.826848e+05</td>\n",
       "      <td>0.860860</td>\n",
       "      <td>0.69933</td>\n",
       "      <td>760.062709</td>\n",
       "      <td>7012.218495</td>\n",
       "      <td>0.539911</td>\n",
       "      <td>703.463912</td>\n",
       "      <td>29.593625</td>\n",
       "      <td>54.085240</td>\n",
       "      <td>...</td>\n",
       "      <td>0.484987</td>\n",
       "      <td>0.172256</td>\n",
       "      <td>0.498946</td>\n",
       "      <td>0.497974</td>\n",
       "      <td>0.069653</td>\n",
       "      <td>0.036813</td>\n",
       "      <td>0.086214</td>\n",
       "      <td>0.478274</td>\n",
       "      <td>0.441299</td>\n",
       "      <td>0.271940</td>\n",
       "    </tr>\n",
       "    <tr>\n",
       "      <th>min</th>\n",
       "      <td>735355.000000</td>\n",
       "      <td>7.800000e+04</td>\n",
       "      <td>1.000000</td>\n",
       "      <td>0.50000</td>\n",
       "      <td>370.000000</td>\n",
       "      <td>520.000000</td>\n",
       "      <td>1.000000</td>\n",
       "      <td>370.000000</td>\n",
       "      <td>1900.000000</td>\n",
       "      <td>98001.000000</td>\n",
       "      <td>...</td>\n",
       "      <td>0.000000</td>\n",
       "      <td>0.000000</td>\n",
       "      <td>0.000000</td>\n",
       "      <td>0.000000</td>\n",
       "      <td>0.000000</td>\n",
       "      <td>0.000000</td>\n",
       "      <td>0.000000</td>\n",
       "      <td>0.000000</td>\n",
       "      <td>0.000000</td>\n",
       "      <td>0.000000</td>\n",
       "    </tr>\n",
       "    <tr>\n",
       "      <th>25%</th>\n",
       "      <td>735436.000000</td>\n",
       "      <td>3.150000e+05</td>\n",
       "      <td>3.000000</td>\n",
       "      <td>1.50000</td>\n",
       "      <td>1400.000000</td>\n",
       "      <td>5000.000000</td>\n",
       "      <td>1.000000</td>\n",
       "      <td>1170.000000</td>\n",
       "      <td>1950.000000</td>\n",
       "      <td>98033.000000</td>\n",
       "      <td>...</td>\n",
       "      <td>0.000000</td>\n",
       "      <td>0.000000</td>\n",
       "      <td>0.000000</td>\n",
       "      <td>0.000000</td>\n",
       "      <td>0.000000</td>\n",
       "      <td>0.000000</td>\n",
       "      <td>0.000000</td>\n",
       "      <td>0.000000</td>\n",
       "      <td>0.000000</td>\n",
       "      <td>0.000000</td>\n",
       "    </tr>\n",
       "    <tr>\n",
       "      <th>50%</th>\n",
       "      <td>735522.000000</td>\n",
       "      <td>4.390000e+05</td>\n",
       "      <td>3.000000</td>\n",
       "      <td>2.00000</td>\n",
       "      <td>1850.000000</td>\n",
       "      <td>7332.000000</td>\n",
       "      <td>1.000000</td>\n",
       "      <td>1510.000000</td>\n",
       "      <td>1972.000000</td>\n",
       "      <td>98072.000000</td>\n",
       "      <td>...</td>\n",
       "      <td>0.000000</td>\n",
       "      <td>0.000000</td>\n",
       "      <td>1.000000</td>\n",
       "      <td>0.000000</td>\n",
       "      <td>0.000000</td>\n",
       "      <td>0.000000</td>\n",
       "      <td>0.000000</td>\n",
       "      <td>1.000000</td>\n",
       "      <td>0.000000</td>\n",
       "      <td>0.000000</td>\n",
       "    </tr>\n",
       "    <tr>\n",
       "      <th>75%</th>\n",
       "      <td>735646.000000</td>\n",
       "      <td>6.150000e+05</td>\n",
       "      <td>4.000000</td>\n",
       "      <td>2.50000</td>\n",
       "      <td>2440.000000</td>\n",
       "      <td>9800.000000</td>\n",
       "      <td>2.000000</td>\n",
       "      <td>2090.000000</td>\n",
       "      <td>1996.000000</td>\n",
       "      <td>98118.000000</td>\n",
       "      <td>...</td>\n",
       "      <td>1.000000</td>\n",
       "      <td>0.000000</td>\n",
       "      <td>1.000000</td>\n",
       "      <td>1.000000</td>\n",
       "      <td>0.000000</td>\n",
       "      <td>0.000000</td>\n",
       "      <td>0.000000</td>\n",
       "      <td>1.000000</td>\n",
       "      <td>1.000000</td>\n",
       "      <td>0.000000</td>\n",
       "    </tr>\n",
       "    <tr>\n",
       "      <th>max</th>\n",
       "      <td>735745.000000</td>\n",
       "      <td>3.100000e+06</td>\n",
       "      <td>6.000000</td>\n",
       "      <td>4.25000</td>\n",
       "      <td>4620.000000</td>\n",
       "      <td>57599.000000</td>\n",
       "      <td>3.000000</td>\n",
       "      <td>4620.000000</td>\n",
       "      <td>2015.000000</td>\n",
       "      <td>98199.000000</td>\n",
       "      <td>...</td>\n",
       "      <td>1.000000</td>\n",
       "      <td>1.000000</td>\n",
       "      <td>1.000000</td>\n",
       "      <td>1.000000</td>\n",
       "      <td>1.000000</td>\n",
       "      <td>1.000000</td>\n",
       "      <td>1.000000</td>\n",
       "      <td>1.000000</td>\n",
       "      <td>1.000000</td>\n",
       "      <td>1.000000</td>\n",
       "    </tr>\n",
       "  </tbody>\n",
       "</table>\n",
       "<p>8 rows × 29 columns</p>\n",
       "</div>"
      ],
      "text/plain": [
       "                date         price      bedrooms    bathrooms   sqft_living  \\\n",
       "count   19897.000000  1.989700e+04  19897.000000  19897.00000  19897.000000   \n",
       "mean   735535.578429  5.042779e+05      3.327838      2.05188   1970.814997   \n",
       "std       112.894839  2.826848e+05      0.860860      0.69933    760.062709   \n",
       "min    735355.000000  7.800000e+04      1.000000      0.50000    370.000000   \n",
       "25%    735436.000000  3.150000e+05      3.000000      1.50000   1400.000000   \n",
       "50%    735522.000000  4.390000e+05      3.000000      2.00000   1850.000000   \n",
       "75%    735646.000000  6.150000e+05      4.000000      2.50000   2440.000000   \n",
       "max    735745.000000  3.100000e+06      6.000000      4.25000   4620.000000   \n",
       "\n",
       "           sqft_lot        floors    sqft_above      yr_built       zipcode  \\\n",
       "count  19897.000000  19897.000000  19897.000000  19897.000000  19897.000000   \n",
       "mean    8719.185204      1.479972   1694.283812   1970.085339  98080.256923   \n",
       "std     7012.218495      0.539911    703.463912     29.593625     54.085240   \n",
       "min      520.000000      1.000000    370.000000   1900.000000  98001.000000   \n",
       "25%     5000.000000      1.000000   1170.000000   1950.000000  98033.000000   \n",
       "50%     7332.000000      1.000000   1510.000000   1972.000000  98072.000000   \n",
       "75%     9800.000000      2.000000   2090.000000   1996.000000  98118.000000   \n",
       "max    57599.000000      3.000000   4620.000000   2015.000000  98199.000000   \n",
       "\n",
       "               ...           sqft_base_(100, 5000]  new_view_(2, 4]  \\\n",
       "count          ...                    19897.000000     19897.000000   \n",
       "mean           ...                        0.378348         0.030608   \n",
       "std            ...                        0.484987         0.172256   \n",
       "min            ...                        0.000000         0.000000   \n",
       "25%            ...                        0.000000         0.000000   \n",
       "50%            ...                        0.000000         0.000000   \n",
       "75%            ...                        1.000000         0.000000   \n",
       "max            ...                        1.000000         1.000000   \n",
       "\n",
       "       new_grade_(5, 7]  new_grade_(7, 13]  new_waterfront_(0.5, 1.0]  \\\n",
       "count      19897.000000       19897.000000               19897.000000   \n",
       "mean           0.532643           0.454893                   0.004875   \n",
       "std            0.498946           0.497974                   0.069653   \n",
       "min            0.000000           0.000000                   0.000000   \n",
       "25%            0.000000           0.000000                   0.000000   \n",
       "50%            1.000000           0.000000                   0.000000   \n",
       "75%            1.000000           1.000000                   0.000000   \n",
       "max            1.000000           1.000000                   1.000000   \n",
       "\n",
       "       new_condition_(0, 1]  new_condition_(1, 2]  new_condition_(2, 3]  \\\n",
       "count          19897.000000          19897.000000          19897.000000   \n",
       "mean               0.001357              0.007489              0.645826   \n",
       "std                0.036813              0.086214              0.478274   \n",
       "min                0.000000              0.000000              0.000000   \n",
       "25%                0.000000              0.000000              0.000000   \n",
       "50%                0.000000              0.000000              1.000000   \n",
       "75%                0.000000              0.000000              1.000000   \n",
       "max                1.000000              1.000000              1.000000   \n",
       "\n",
       "       new_condition_(3, 4]  new_condition_(4, 5]  \n",
       "count          19897.000000          19897.000000  \n",
       "mean               0.264914              0.080414  \n",
       "std                0.441299              0.271940  \n",
       "min                0.000000              0.000000  \n",
       "25%                0.000000              0.000000  \n",
       "50%                0.000000              0.000000  \n",
       "75%                1.000000              0.000000  \n",
       "max                1.000000              1.000000  \n",
       "\n",
       "[8 rows x 29 columns]"
      ]
     },
     "execution_count": 119,
     "metadata": {},
     "output_type": "execute_result"
    }
   ],
   "source": [
    "# Let's see those new bins!\n",
    "data.describe()"
   ]
  },
  {
   "cell_type": "code",
   "execution_count": 120,
   "metadata": {},
   "outputs": [
    {
     "data": {
      "image/png": "[encoded data removed]",
      "text/plain": [
       "<Figure size 432x288 with 1 Axes>"
      ]
     },
     "metadata": {
      "needs_background": "light"
     },
     "output_type": "display_data"
    }
   ],
   "source": [
    "# I also want to see how they look here.\n",
    "bins_yr_renovated.value_counts().plot(kind='bar')\n",
    "plt.xlabel('Bins of Years Remodeled', fontsize=16)\n",
    "plt.ylabel('Number of Homes', fontsize=16)\n",
    "plt.title(\"King County Homes Renovated\", fontsize=20)\n",
    "plt.show()"
   ]
  },
  {
   "cell_type": "markdown",
   "metadata": {},
   "source": [
    "### Log Transformation: These features have right skewed histograms\n",
    "'sqft_above', 'sqft_lot', 'sqft_living', 'sqft_living15', 'sqft_lot15'"
   ]
  },
  {
   "cell_type": "code",
   "execution_count": 121,
   "metadata": {},
   "outputs": [
    {
     "data": {
      "text/plain": [
       "Text(0.5, 1.0, 'sqft_lot15')"
      ]
     },
     "execution_count": 121,
     "metadata": {},
     "output_type": "execute_result"
    },
    {
     "data": {
      "image/png": "[encoded data removed]",
      "text/plain": [
       "<Figure size 576x576 with 4 Axes>"
      ]
     },
     "metadata": {
      "needs_background": "light"
     },
     "output_type": "display_data"
    }
   ],
   "source": [
    "# I just want to look at a couple of these again BEFORE the transformation.\n",
    "new_figure = plt.figure(figsize=(8,8))\n",
    "\n",
    "ax1 = plt.subplot(2, 2, 1)\n",
    "data.sqft_above.hist(ax=ax1)\n",
    "ax1.set_title(\"sqft_above\")\n",
    "\n",
    "ax2 = plt.subplot(2, 2, 2)\n",
    "data.sqft_living.hist(ax=ax2)\n",
    "ax2.set_title('sqft_living')\n",
    "\n",
    "ax3 = plt.subplot(2, 2, 3)\n",
    "data.sqft_living15.hist(ax=ax3)\n",
    "ax3.set_title(\"sqft_living15\")\n",
    "\n",
    "ax4 = plt.subplot(2, 2, 4)\n",
    "data.sqft_lot15.hist(ax=ax4)\n",
    "ax4.set_title('sqft_lot15')"
   ]
  },
  {
   "cell_type": "code",
   "execution_count": 122,
   "metadata": {},
   "outputs": [],
   "source": [
    "# Perform log transformation - import numpy\n",
    "import numpy as np\n",
    "logabove = np.log(data[\"sqft_above\"])\n",
    "loglot = np.log(data[\"sqft_lot\"])\n",
    "logliving = np.log(data[\"sqft_living\"])\n",
    "loglivingnear = np.log(data[\"sqft_living15\"])\n",
    "loglotnear = np.log(data[\"sqft_lot15\"])\n",
    "#logyrbuilt = np.log(data[\"yr_built\"])\n",
    "\n",
    "# Switch the Standardization into the original data\n",
    "data[\"sqft_above\"] = (logabove-np.mean(logabove))/np.sqrt(np.var(logabove))\n",
    "data[\"sqft_lot\"] = (loglot-np.mean(loglot))/np.sqrt(np.var(loglot))\n",
    "data[\"sqft_living\"] = (logliving-np.mean(logliving))/np.sqrt(np.var(logliving))\n",
    "data[\"sqft_living15\"] = (loglivingnear-np.mean(loglivingnear))/np.sqrt(np.var(loglivingnear))\n",
    "data[\"sqft_lot15\"] = (loglotnear-np.mean(loglotnear))/(np.sqrt(np.var(loglotnear)))\n",
    "#data[\"yr_built\"] = (logyrbuilt-np.mean(logyrbuilt))/(np.sqrt(np.var(logyrbuilt)))"
   ]
  },
  {
   "cell_type": "code",
   "execution_count": 123,
   "metadata": {},
   "outputs": [
    {
     "data": {
      "text/plain": [
       "Text(0.5, 1.0, 'sqft_lot15')"
      ]
     },
     "execution_count": 123,
     "metadata": {},
     "output_type": "execute_result"
    },
    {
     "data": {
      "image/png": "[encoded data removed]",
      "text/plain": [
       "<Figure size 576x576 with 4 Axes>"
      ]
     },
     "metadata": {
      "needs_background": "light"
     },
     "output_type": "display_data"
    }
   ],
   "source": [
    "# Let's see how different those graphs look after the transformation.\n",
    "new_figure = plt.figure(figsize=(8,8))\n",
    "\n",
    "ax1 = plt.subplot(2, 2, 1)\n",
    "data.sqft_above.hist(ax=ax1)\n",
    "ax1.set_title(\"sqft_above\")\n",
    "\n",
    "ax2 = plt.subplot(2, 2, 2)\n",
    "data.sqft_living.hist(ax=ax2)\n",
    "ax2.set_title('sqft_living')\n",
    "\n",
    "ax3 = plt.subplot(2, 2, 3)\n",
    "data.sqft_living15.hist(ax=ax3)\n",
    "ax3.set_title(\"sqft_living15\")\n",
    "\n",
    "ax4 = plt.subplot(2, 2, 4)\n",
    "data.sqft_lot15.hist(ax=ax4)\n",
    "ax4.set_title('sqft_lot15')"
   ]
  },
  {
   "cell_type": "code",
   "execution_count": 124,
   "metadata": {},
   "outputs": [],
   "source": [
    "# Much better.  Much more normal looking and centered around zero."
   ]
  },
  {
   "cell_type": "markdown",
   "metadata": {},
   "source": [
    "## Time to run a model (even though you know I have over a dozen!)"
   ]
  },
  {
   "cell_type": "code",
   "execution_count": 142,
   "metadata": {},
   "outputs": [],
   "source": [
    "# We already dropped \"id\". Now I'm going to drop 'zipcode' because I don't know what to do with it!\n",
    "y = pd.DataFrame(data, columns = ['price'])\n",
    "X = data.drop([\"price\", \"zipcode\"], axis=1)"
   ]
  },
  {
   "cell_type": "code",
   "execution_count": 143,
   "metadata": {},
   "outputs": [
    {
     "data": {
      "text/html": [
       "<table class=\"simpletable\">\n",
       "<caption>OLS Regression Results</caption>\n",
       "<tr>\n",
       "  <th>Dep. Variable:</th>          <td>price</td>      <th>  R-squared:         </th>  <td>   0.613</td>  \n",
       "</tr>\n",
       "<tr>\n",
       "  <th>Model:</th>                   <td>OLS</td>       <th>  Adj. R-squared:    </th>  <td>   0.612</td>  \n",
       "</tr>\n",
       "<tr>\n",
       "  <th>Method:</th>             <td>Least Squares</td>  <th>  F-statistic:       </th>  <td>   1258.</td>  \n",
       "</tr>\n",
       "<tr>\n",
       "  <th>Date:</th>             <td>Mon, 21 Oct 2019</td> <th>  Prob (F-statistic):</th>   <td>  0.00</td>   \n",
       "</tr>\n",
       "<tr>\n",
       "  <th>Time:</th>                 <td>12:20:20</td>     <th>  Log-Likelihood:    </th> <td>-2.6854e+05</td>\n",
       "</tr>\n",
       "<tr>\n",
       "  <th>No. Observations:</th>      <td> 19897</td>      <th>  AIC:               </th>  <td>5.371e+05</td> \n",
       "</tr>\n",
       "<tr>\n",
       "  <th>Df Residuals:</th>          <td> 19871</td>      <th>  BIC:               </th>  <td>5.373e+05</td> \n",
       "</tr>\n",
       "<tr>\n",
       "  <th>Df Model:</th>              <td>    25</td>      <th>                     </th>      <td> </td>     \n",
       "</tr>\n",
       "<tr>\n",
       "  <th>Covariance Type:</th>      <td>nonrobust</td>    <th>                     </th>      <td> </td>     \n",
       "</tr>\n",
       "</table>\n",
       "<table class=\"simpletable\">\n",
       "<tr>\n",
       "              <td></td>                 <th>coef</th>     <th>std err</th>      <th>t</th>      <th>P>|t|</th>  <th>[0.025</th>    <th>0.975]</th>  \n",
       "</tr>\n",
       "<tr>\n",
       "  <th>date</th>                      <td>   88.6299</td> <td>   11.098</td> <td>    7.986</td> <td> 0.000</td> <td>   66.878</td> <td>  110.382</td>\n",
       "</tr>\n",
       "<tr>\n",
       "  <th>bedrooms</th>                  <td>-2.264e+04</td> <td> 1950.979</td> <td>  -11.603</td> <td> 0.000</td> <td>-2.65e+04</td> <td>-1.88e+04</td>\n",
       "</tr>\n",
       "<tr>\n",
       "  <th>bathrooms</th>                 <td> 4.638e+04</td> <td> 3191.536</td> <td>   14.532</td> <td> 0.000</td> <td> 4.01e+04</td> <td> 5.26e+04</td>\n",
       "</tr>\n",
       "<tr>\n",
       "  <th>sqft_living</th>               <td> 2.984e+04</td> <td> 5040.112</td> <td>    5.921</td> <td> 0.000</td> <td>    2e+04</td> <td> 3.97e+04</td>\n",
       "</tr>\n",
       "<tr>\n",
       "  <th>sqft_lot</th>                  <td>-7823.0840</td> <td> 3145.636</td> <td>   -2.487</td> <td> 0.013</td> <td> -1.4e+04</td> <td>-1657.375</td>\n",
       "</tr>\n",
       "<tr>\n",
       "  <th>floors</th>                    <td> 1871.2583</td> <td> 3865.487</td> <td>    0.484</td> <td> 0.628</td> <td>-5705.419</td> <td> 9447.936</td>\n",
       "</tr>\n",
       "<tr>\n",
       "  <th>sqft_above</th>                <td> 8.713e+04</td> <td> 4947.482</td> <td>   17.610</td> <td> 0.000</td> <td> 7.74e+04</td> <td> 9.68e+04</td>\n",
       "</tr>\n",
       "<tr>\n",
       "  <th>yr_built</th>                  <td>-1953.2695</td> <td>   65.449</td> <td>  -29.844</td> <td> 0.000</td> <td>-2081.555</td> <td>-1824.984</td>\n",
       "</tr>\n",
       "<tr>\n",
       "  <th>lat</th>                       <td> 6.202e+05</td> <td> 9596.929</td> <td>   64.622</td> <td> 0.000</td> <td> 6.01e+05</td> <td> 6.39e+05</td>\n",
       "</tr>\n",
       "<tr>\n",
       "  <th>long</th>                      <td>-1.024e+05</td> <td> 1.13e+04</td> <td>   -9.030</td> <td> 0.000</td> <td>-1.25e+05</td> <td>-8.02e+04</td>\n",
       "</tr>\n",
       "<tr>\n",
       "  <th>sqft_living15</th>             <td> 4.997e+04</td> <td> 2022.026</td> <td>   24.712</td> <td> 0.000</td> <td>  4.6e+04</td> <td> 5.39e+04</td>\n",
       "</tr>\n",
       "<tr>\n",
       "  <th>sqft_lot15</th>                <td>-9304.8056</td> <td> 3038.227</td> <td>   -3.063</td> <td> 0.002</td> <td>-1.53e+04</td> <td>-3349.628</td>\n",
       "</tr>\n",
       "<tr>\n",
       "  <th>yr_ren_(0, 1900]</th>          <td>-1.073e-06</td> <td> 8.66e-08</td> <td>  -12.391</td> <td> 0.000</td> <td>-1.24e-06</td> <td>-9.04e-07</td>\n",
       "</tr>\n",
       "<tr>\n",
       "  <th>yr_ren_(1900, 1990]</th>       <td>-2.628e+04</td> <td> 1.24e+04</td> <td>   -2.125</td> <td> 0.034</td> <td>-5.05e+04</td> <td>-2039.170</td>\n",
       "</tr>\n",
       "<tr>\n",
       "  <th>yr_ren_(1990, 2000]</th>       <td> 8.119e+04</td> <td> 1.58e+04</td> <td>    5.145</td> <td> 0.000</td> <td> 5.03e+04</td> <td> 1.12e+05</td>\n",
       "</tr>\n",
       "<tr>\n",
       "  <th>yr_ren_(2000, 2008]</th>       <td> 1.403e+05</td> <td> 1.44e+04</td> <td>    9.747</td> <td> 0.000</td> <td> 1.12e+05</td> <td> 1.69e+05</td>\n",
       "</tr>\n",
       "<tr>\n",
       "  <th>yr_ren_(2008, 2015]</th>       <td> 8.317e+04</td> <td>  1.4e+04</td> <td>    5.937</td> <td> 0.000</td> <td> 5.57e+04</td> <td> 1.11e+05</td>\n",
       "</tr>\n",
       "<tr>\n",
       "  <th>sqft_base_(100, 5000]</th>     <td> 5.379e+04</td> <td> 5305.961</td> <td>   10.139</td> <td> 0.000</td> <td> 4.34e+04</td> <td> 6.42e+04</td>\n",
       "</tr>\n",
       "<tr>\n",
       "  <th>new_view_(2, 4]</th>           <td> 2.008e+05</td> <td> 8094.092</td> <td>   24.810</td> <td> 0.000</td> <td> 1.85e+05</td> <td> 2.17e+05</td>\n",
       "</tr>\n",
       "<tr>\n",
       "  <th>new_grade_(5, 7]</th>          <td>-2.264e+04</td> <td> 1.17e+04</td> <td>   -1.928</td> <td> 0.054</td> <td>-4.57e+04</td> <td>  375.103</td>\n",
       "</tr>\n",
       "<tr>\n",
       "  <th>new_grade_(7, 13]</th>         <td> 6.631e+04</td> <td> 1.24e+04</td> <td>    5.345</td> <td> 0.000</td> <td>  4.2e+04</td> <td> 9.06e+04</td>\n",
       "</tr>\n",
       "<tr>\n",
       "  <th>new_waterfront_(0.5, 1.0]</th> <td> 5.041e+05</td> <td> 1.95e+04</td> <td>   25.848</td> <td> 0.000</td> <td> 4.66e+05</td> <td> 5.42e+05</td>\n",
       "</tr>\n",
       "<tr>\n",
       "  <th>new_condition_(0, 1]</th>      <td> -1.03e+08</td> <td> 8.31e+06</td> <td>  -12.399</td> <td> 0.000</td> <td>-1.19e+08</td> <td>-8.67e+07</td>\n",
       "</tr>\n",
       "<tr>\n",
       "  <th>new_condition_(1, 2]</th>      <td> -1.03e+08</td> <td> 8.31e+06</td> <td>  -12.392</td> <td> 0.000</td> <td>-1.19e+08</td> <td>-8.67e+07</td>\n",
       "</tr>\n",
       "<tr>\n",
       "  <th>new_condition_(2, 3]</th>      <td>-1.029e+08</td> <td> 8.31e+06</td> <td>  -12.391</td> <td> 0.000</td> <td>-1.19e+08</td> <td>-8.67e+07</td>\n",
       "</tr>\n",
       "<tr>\n",
       "  <th>new_condition_(3, 4]</th>      <td>-1.029e+08</td> <td> 8.31e+06</td> <td>  -12.387</td> <td> 0.000</td> <td>-1.19e+08</td> <td>-8.66e+07</td>\n",
       "</tr>\n",
       "<tr>\n",
       "  <th>new_condition_(4, 5]</th>      <td>-1.029e+08</td> <td> 8.31e+06</td> <td>  -12.382</td> <td> 0.000</td> <td>-1.19e+08</td> <td>-8.66e+07</td>\n",
       "</tr>\n",
       "</table>\n",
       "<table class=\"simpletable\">\n",
       "<tr>\n",
       "  <th>Omnibus:</th>       <td>10803.408</td> <th>  Durbin-Watson:     </th>  <td>   1.997</td> \n",
       "</tr>\n",
       "<tr>\n",
       "  <th>Prob(Omnibus):</th>  <td> 0.000</td>   <th>  Jarque-Bera (JB):  </th> <td>165945.001</td>\n",
       "</tr>\n",
       "<tr>\n",
       "  <th>Skew:</th>           <td> 2.273</td>   <th>  Prob(JB):          </th>  <td>    0.00</td> \n",
       "</tr>\n",
       "<tr>\n",
       "  <th>Kurtosis:</th>       <td>16.398</td>   <th>  Cond. No.          </th>  <td>1.00e+16</td> \n",
       "</tr>\n",
       "</table><br/><br/>Warnings:<br/>[1] Standard Errors assume that the covariance matrix of the errors is correctly specified.<br/>[2] The smallest eigenvalue is 1.07e-16. This might indicate that there are<br/>strong multicollinearity problems or that the design matrix is singular."
      ],
      "text/plain": [
       "<class 'statsmodels.iolib.summary.Summary'>\n",
       "\"\"\"\n",
       "                            OLS Regression Results                            \n",
       "==============================================================================\n",
       "Dep. Variable:                  price   R-squared:                       0.613\n",
       "Model:                            OLS   Adj. R-squared:                  0.612\n",
       "Method:                 Least Squares   F-statistic:                     1258.\n",
       "Date:                Mon, 21 Oct 2019   Prob (F-statistic):               0.00\n",
       "Time:                        12:20:20   Log-Likelihood:            -2.6854e+05\n",
       "No. Observations:               19897   AIC:                         5.371e+05\n",
       "Df Residuals:                   19871   BIC:                         5.373e+05\n",
       "Df Model:                          25                                         \n",
       "Covariance Type:            nonrobust                                         \n",
       "=============================================================================================\n",
       "                                coef    std err          t      P>|t|      [0.025      0.975]\n",
       "---------------------------------------------------------------------------------------------\n",
       "date                         88.6299     11.098      7.986      0.000      66.878     110.382\n",
       "bedrooms                  -2.264e+04   1950.979    -11.603      0.000   -2.65e+04   -1.88e+04\n",
       "bathrooms                  4.638e+04   3191.536     14.532      0.000    4.01e+04    5.26e+04\n",
       "sqft_living                2.984e+04   5040.112      5.921      0.000       2e+04    3.97e+04\n",
       "sqft_lot                  -7823.0840   3145.636     -2.487      0.013    -1.4e+04   -1657.375\n",
       "floors                     1871.2583   3865.487      0.484      0.628   -5705.419    9447.936\n",
       "sqft_above                 8.713e+04   4947.482     17.610      0.000    7.74e+04    9.68e+04\n",
       "yr_built                  -1953.2695     65.449    -29.844      0.000   -2081.555   -1824.984\n",
       "lat                        6.202e+05   9596.929     64.622      0.000    6.01e+05    6.39e+05\n",
       "long                      -1.024e+05   1.13e+04     -9.030      0.000   -1.25e+05   -8.02e+04\n",
       "sqft_living15              4.997e+04   2022.026     24.712      0.000     4.6e+04    5.39e+04\n",
       "sqft_lot15                -9304.8056   3038.227     -3.063      0.002   -1.53e+04   -3349.628\n",
       "yr_ren_(0, 1900]          -1.073e-06   8.66e-08    -12.391      0.000   -1.24e-06   -9.04e-07\n",
       "yr_ren_(1900, 1990]       -2.628e+04   1.24e+04     -2.125      0.034   -5.05e+04   -2039.170\n",
       "yr_ren_(1990, 2000]        8.119e+04   1.58e+04      5.145      0.000    5.03e+04    1.12e+05\n",
       "yr_ren_(2000, 2008]        1.403e+05   1.44e+04      9.747      0.000    1.12e+05    1.69e+05\n",
       "yr_ren_(2008, 2015]        8.317e+04    1.4e+04      5.937      0.000    5.57e+04    1.11e+05\n",
       "sqft_base_(100, 5000]      5.379e+04   5305.961     10.139      0.000    4.34e+04    6.42e+04\n",
       "new_view_(2, 4]            2.008e+05   8094.092     24.810      0.000    1.85e+05    2.17e+05\n",
       "new_grade_(5, 7]          -2.264e+04   1.17e+04     -1.928      0.054   -4.57e+04     375.103\n",
       "new_grade_(7, 13]          6.631e+04   1.24e+04      5.345      0.000     4.2e+04    9.06e+04\n",
       "new_waterfront_(0.5, 1.0]  5.041e+05   1.95e+04     25.848      0.000    4.66e+05    5.42e+05\n",
       "new_condition_(0, 1]       -1.03e+08   8.31e+06    -12.399      0.000   -1.19e+08   -8.67e+07\n",
       "new_condition_(1, 2]       -1.03e+08   8.31e+06    -12.392      0.000   -1.19e+08   -8.67e+07\n",
       "new_condition_(2, 3]      -1.029e+08   8.31e+06    -12.391      0.000   -1.19e+08   -8.67e+07\n",
       "new_condition_(3, 4]      -1.029e+08   8.31e+06    -12.387      0.000   -1.19e+08   -8.66e+07\n",
       "new_condition_(4, 5]      -1.029e+08   8.31e+06    -12.382      0.000   -1.19e+08   -8.66e+07\n",
       "==============================================================================\n",
       "Omnibus:                    10803.408   Durbin-Watson:                   1.997\n",
       "Prob(Omnibus):                  0.000   Jarque-Bera (JB):           165945.001\n",
       "Skew:                           2.273   Prob(JB):                         0.00\n",
       "Kurtosis:                      16.398   Cond. No.                     1.00e+16\n",
       "==============================================================================\n",
       "\n",
       "Warnings:\n",
       "[1] Standard Errors assume that the covariance matrix of the errors is correctly specified.\n",
       "[2] The smallest eigenvalue is 1.07e-16. This might indicate that there are\n",
       "strong multicollinearity problems or that the design matrix is singular.\n",
       "\"\"\""
      ]
     },
     "execution_count": 143,
     "metadata": {},
     "output_type": "execute_result"
    }
   ],
   "source": [
    "import statsmodels.api as sm\n",
    "model = sm.OLS(y,X).fit()\n",
    "model.summary()"
   ]
  },
  {
   "cell_type": "markdown",
   "metadata": {},
   "source": [
    "## Test/Train Split"
   ]
  },
  {
   "cell_type": "code",
   "execution_count": 127,
   "metadata": {},
   "outputs": [
    {
     "name": "stdout",
     "output_type": "stream",
     "text": [
      "14922 4975 14922 4975\n"
     ]
    }
   ],
   "source": [
    "# Perform a train-test split\n",
    "from sklearn.model_selection import train_test_split\n",
    "X_train, X_test, y_train, y_test = train_test_split(X, y)\n",
    "# A brief preview of our train test split\n",
    "print(len(X_train), len(X_test), len(y_train), len(y_test))"
   ]
  },
  {
   "cell_type": "code",
   "execution_count": 128,
   "metadata": {},
   "outputs": [
    {
     "data": {
      "text/plain": [
       "LinearRegression(copy_X=True, fit_intercept=True, n_jobs=1, normalize=False)"
      ]
     },
     "execution_count": 128,
     "metadata": {},
     "output_type": "execute_result"
    }
   ],
   "source": [
    "# Apply your model to the train set\n",
    "from sklearn.linear_model import LinearRegression\n",
    "linreg = LinearRegression()\n",
    "linreg.fit(X_train, y_train)\n",
    "LinearRegression(copy_X=True, fit_intercept=True, n_jobs=1, normalize=False)"
   ]
  },
  {
   "cell_type": "code",
   "execution_count": 129,
   "metadata": {},
   "outputs": [],
   "source": [
    "# Calculate predictions on training and test sets\n",
    "y_hat_train = linreg.predict(X_train)\n",
    "y_hat_test = linreg.predict(X_test)\n",
    "\n",
    "# Calculate training and test residuals\n",
    "train_residuals = y_hat_train - y_train\n",
    "test_residuals = y_hat_test - y_test"
   ]
  },
  {
   "cell_type": "code",
   "execution_count": 130,
   "metadata": {},
   "outputs": [
    {
     "name": "stdout",
     "output_type": "stream",
     "text": [
      "Train Mean Squarred Error: 30110060042.940884\n",
      "Test Mean Squarred Error: 33917135612.94566\n"
     ]
    }
   ],
   "source": [
    "#Calculate the Mean Squared Error (MSE)\n",
    "from sklearn.metrics import mean_squared_error\n",
    "\n",
    "train_mse = mean_squared_error(y_train, y_hat_train)\n",
    "test_mse = mean_squared_error(y_test, y_hat_test)\n",
    "\n",
    "print('Train Mean Squarred Error:', train_mse)\n",
    "print('Test Mean Squarred Error:', test_mse)"
   ]
  },
  {
   "cell_type": "code",
   "execution_count": 131,
   "metadata": {},
   "outputs": [
    {
     "data": {
      "text/plain": [
       "<matplotlib.legend.Legend at 0x1c2075c588>"
      ]
     },
     "execution_count": 131,
     "metadata": {},
     "output_type": "execute_result"
    },
    {
     "data": {
      "image/png": "[encoded data removed]",
      "text/plain": [
       "<Figure size 432x288 with 1 Axes>"
      ]
     },
     "metadata": {
      "needs_background": "light"
     },
     "output_type": "display_data"
    }
   ],
   "source": [
    "#Evaluate the effect of train-test split \n",
    "import random\n",
    "random.seed(8)\n",
    "train_err = []\n",
    "test_err = []\n",
    "t_sizes = list(range(5,100,5))\n",
    "for t_size in t_sizes:\n",
    "    temp_train_err = []\n",
    "    temp_test_err = []\n",
    "    for i in range(100):\n",
    "        X_train, X_test, y_train, y_test = train_test_split(X, y, test_size=t_size/100)\n",
    "        linreg.fit(X_train, y_train)\n",
    "        y_hat_train = linreg.predict(X_train)\n",
    "        y_hat_test = linreg.predict(X_test)\n",
    "        temp_train_err.append(mean_squared_error(y_train, y_hat_train))\n",
    "        temp_test_err.append(mean_squared_error(y_test, y_hat_test))\n",
    "    train_err.append(np.mean(temp_train_err))\n",
    "    test_err.append(np.mean(temp_test_err))\n",
    "plt.scatter(t_sizes, train_err, label='Training Error')\n",
    "plt.scatter(t_sizes, test_err, label='Testing Error')\n",
    "plt.legend()"
   ]
  },
  {
   "cell_type": "code",
   "execution_count": 132,
   "metadata": {},
   "outputs": [
    {
     "data": {
      "text/plain": [
       "array([-2.96257243e+10, -2.98450137e+10, -2.76585713e+10, -3.33623998e+10,\n",
       "       -3.67401569e+10])"
      ]
     },
     "execution_count": 132,
     "metadata": {},
     "output_type": "execute_result"
    }
   ],
   "source": [
    "#Cross Validation Score of top 5 features\n",
    "from sklearn.metrics import mean_squared_error\n",
    "from sklearn.model_selection import cross_val_score\n",
    "\n",
    "cv_5_results = cross_val_score(linreg, X, y, cv=5, scoring='neg_mean_squared_error')\n",
    "cv_5_results"
   ]
  },
  {
   "cell_type": "markdown",
   "metadata": {},
   "source": [
    "## Summary #1"
   ]
  },
  {
   "cell_type": "markdown",
   "metadata": {},
   "source": [
    "Adjustments for this model:\n",
    "\n",
    "    Start with getting rid of 'id',\n",
    "    Then deal with the NaN's in 'view', 'yr_renovated', 'waterfront', and 'sqft_basement'\n",
    "    Change \"?\" in 'sqft_basement'\n",
    "    Deal with data objects 'date', 'sqft_basement'\n",
    "    Take care of outlier in 'bedrooms' and 'bathrooms'\n",
    "    Deal with the date feature - which still gives me trouble.\n",
    "    Bin Categorical: 'view', 'grade', 'sqft_basement', 'yr_renovated', 'waterfront', 'condition'\n",
    "    Log Transform right skewed: 'sqft_above', 'sqft_living','sqft_lot', 'sqft_living15', 'sqft_lot15'\n",
    "    Max/Min: None\n",
    "    Standardization: 'sqft_above', 'sqft_living','sqft_lot','sqft_living15', 'sqft_lot15'"
   ]
  },
  {
   "cell_type": "markdown",
   "metadata": {},
   "source": [
    "The r^2 is 0.61 which is not great. And there are P values that I need to deal with - 'floors' and 'sqft_lot' (probably due to multicolinearity). The test and train MSE are pretty close to each other: 3.04 x e^10 which is good. I have no idea what is going on with the 'condition' bins - other than the fact that since there isn't a linear relationship the numbers are getting thrown off. Even though they are negative coefficients for all values they have one of the highest exponents e^10.  \n",
    "Keep in mind that I did a number of other models which ended up having much higher r^2 values - especially models 11 through 15, which can all be found in the Model_Attempt folder."
   ]
  },
  {
   "cell_type": "markdown",
   "metadata": {},
   "source": [
    "## Again..."
   ]
  },
  {
   "cell_type": "code",
   "execution_count": 133,
   "metadata": {},
   "outputs": [],
   "source": [
    "# This time I'm going to get rid of \"floors\" and \"yr_ren_(1900, 1990]\" due to high P-values.\n",
    "y = pd.DataFrame(data, columns = ['price'])\n",
    "X = data.drop([\"price\", \"floors\", 'sqft_lot', \"new_grade_(5, 7]\"], axis=1)"
   ]
  },
  {
   "cell_type": "code",
   "execution_count": 134,
   "metadata": {},
   "outputs": [
    {
     "data": {
      "text/html": [
       "<table class=\"simpletable\">\n",
       "<caption>OLS Regression Results</caption>\n",
       "<tr>\n",
       "  <th>Dep. Variable:</th>          <td>price</td>      <th>  R-squared:         </th>  <td>   0.616</td>  \n",
       "</tr>\n",
       "<tr>\n",
       "  <th>Model:</th>                   <td>OLS</td>       <th>  Adj. R-squared:    </th>  <td>   0.616</td>  \n",
       "</tr>\n",
       "<tr>\n",
       "  <th>Method:</th>             <td>Least Squares</td>  <th>  F-statistic:       </th>  <td>   1388.</td>  \n",
       "</tr>\n",
       "<tr>\n",
       "  <th>Date:</th>             <td>Mon, 21 Oct 2019</td> <th>  Prob (F-statistic):</th>   <td>  0.00</td>   \n",
       "</tr>\n",
       "<tr>\n",
       "  <th>Time:</th>                 <td>12:20:14</td>     <th>  Log-Likelihood:    </th> <td>-2.6845e+05</td>\n",
       "</tr>\n",
       "<tr>\n",
       "  <th>No. Observations:</th>      <td> 19897</td>      <th>  AIC:               </th>  <td>5.370e+05</td> \n",
       "</tr>\n",
       "<tr>\n",
       "  <th>Df Residuals:</th>          <td> 19873</td>      <th>  BIC:               </th>  <td>5.371e+05</td> \n",
       "</tr>\n",
       "<tr>\n",
       "  <th>Df Model:</th>              <td>    23</td>      <th>                     </th>      <td> </td>     \n",
       "</tr>\n",
       "<tr>\n",
       "  <th>Covariance Type:</th>      <td>nonrobust</td>    <th>                     </th>      <td> </td>     \n",
       "</tr>\n",
       "</table>\n",
       "<table class=\"simpletable\">\n",
       "<tr>\n",
       "              <td></td>                 <th>coef</th>     <th>std err</th>      <th>t</th>      <th>P>|t|</th>  <th>[0.025</th>    <th>0.975]</th>  \n",
       "</tr>\n",
       "<tr>\n",
       "  <th>date</th>                      <td>   87.7390</td> <td>   11.044</td> <td>    7.945</td> <td> 0.000</td> <td>   66.092</td> <td>  109.386</td>\n",
       "</tr>\n",
       "<tr>\n",
       "  <th>bedrooms</th>                  <td> -2.39e+04</td> <td> 1942.151</td> <td>  -12.308</td> <td> 0.000</td> <td>-2.77e+04</td> <td>-2.01e+04</td>\n",
       "</tr>\n",
       "<tr>\n",
       "  <th>bathrooms</th>                 <td> 4.695e+04</td> <td> 3112.573</td> <td>   15.084</td> <td> 0.000</td> <td> 4.08e+04</td> <td> 5.31e+04</td>\n",
       "</tr>\n",
       "<tr>\n",
       "  <th>sqft_living</th>               <td> 2.885e+04</td> <td> 4955.720</td> <td>    5.822</td> <td> 0.000</td> <td> 1.91e+04</td> <td> 3.86e+04</td>\n",
       "</tr>\n",
       "<tr>\n",
       "  <th>sqft_above</th>                <td> 8.785e+04</td> <td> 4704.732</td> <td>   18.672</td> <td> 0.000</td> <td> 7.86e+04</td> <td> 9.71e+04</td>\n",
       "</tr>\n",
       "<tr>\n",
       "  <th>yr_built</th>                  <td>-2049.8421</td> <td>   64.031</td> <td>  -32.013</td> <td> 0.000</td> <td>-2175.349</td> <td>-1924.335</td>\n",
       "</tr>\n",
       "<tr>\n",
       "  <th>zipcode</th>                   <td> -414.7353</td> <td>   29.724</td> <td>  -13.953</td> <td> 0.000</td> <td> -472.997</td> <td> -356.473</td>\n",
       "</tr>\n",
       "<tr>\n",
       "  <th>lat</th>                       <td> 6.488e+05</td> <td> 9712.742</td> <td>   66.801</td> <td> 0.000</td> <td>  6.3e+05</td> <td> 6.68e+05</td>\n",
       "</tr>\n",
       "<tr>\n",
       "  <th>long</th>                      <td>-1.764e+05</td> <td> 1.23e+04</td> <td>  -14.298</td> <td> 0.000</td> <td>-2.01e+05</td> <td>-1.52e+05</td>\n",
       "</tr>\n",
       "<tr>\n",
       "  <th>sqft_living15</th>             <td> 4.777e+04</td> <td> 2017.275</td> <td>   23.682</td> <td> 0.000</td> <td> 4.38e+04</td> <td> 5.17e+04</td>\n",
       "</tr>\n",
       "<tr>\n",
       "  <th>sqft_lot15</th>                <td>-1.761e+04</td> <td> 1513.164</td> <td>  -11.638</td> <td> 0.000</td> <td>-2.06e+04</td> <td>-1.46e+04</td>\n",
       "</tr>\n",
       "<tr>\n",
       "  <th>yr_ren_(0, 1900]</th>          <td>-1.525e-06</td> <td> 1.82e-07</td> <td>   -8.383</td> <td> 0.000</td> <td>-1.88e-06</td> <td>-1.17e-06</td>\n",
       "</tr>\n",
       "<tr>\n",
       "  <th>yr_ren_(1900, 1990]</th>       <td>-2.697e+04</td> <td> 1.23e+04</td> <td>   -2.193</td> <td> 0.028</td> <td>-5.11e+04</td> <td>-2868.123</td>\n",
       "</tr>\n",
       "<tr>\n",
       "  <th>yr_ren_(1990, 2000]</th>       <td> 8.045e+04</td> <td> 1.57e+04</td> <td>    5.123</td> <td> 0.000</td> <td> 4.97e+04</td> <td> 1.11e+05</td>\n",
       "</tr>\n",
       "<tr>\n",
       "  <th>yr_ren_(2000, 2008]</th>       <td> 1.387e+05</td> <td> 1.43e+04</td> <td>    9.686</td> <td> 0.000</td> <td> 1.11e+05</td> <td> 1.67e+05</td>\n",
       "</tr>\n",
       "<tr>\n",
       "  <th>yr_ren_(2008, 2015]</th>       <td> 8.256e+04</td> <td> 1.39e+04</td> <td>    5.922</td> <td> 0.000</td> <td> 5.52e+04</td> <td>  1.1e+05</td>\n",
       "</tr>\n",
       "<tr>\n",
       "  <th>sqft_base_(100, 5000]</th>     <td> 5.513e+04</td> <td> 5274.380</td> <td>   10.452</td> <td> 0.000</td> <td> 4.48e+04</td> <td> 6.55e+04</td>\n",
       "</tr>\n",
       "<tr>\n",
       "  <th>new_view_(2, 4]</th>           <td> 2.085e+05</td> <td> 8074.098</td> <td>   25.827</td> <td> 0.000</td> <td> 1.93e+05</td> <td> 2.24e+05</td>\n",
       "</tr>\n",
       "<tr>\n",
       "  <th>new_grade_(7, 13]</th>         <td> 8.944e+04</td> <td> 3455.894</td> <td>   25.880</td> <td> 0.000</td> <td> 8.27e+04</td> <td> 9.62e+04</td>\n",
       "</tr>\n",
       "<tr>\n",
       "  <th>new_waterfront_(0.5, 1.0]</th> <td> 5.093e+05</td> <td> 1.94e+04</td> <td>   26.262</td> <td> 0.000</td> <td> 4.71e+05</td> <td> 5.47e+05</td>\n",
       "</tr>\n",
       "<tr>\n",
       "  <th>new_condition_(0, 1]</th>      <td> -7.19e+07</td> <td> 8.57e+06</td> <td>   -8.391</td> <td> 0.000</td> <td>-8.87e+07</td> <td>-5.51e+07</td>\n",
       "</tr>\n",
       "<tr>\n",
       "  <th>new_condition_(1, 2]</th>      <td>-7.185e+07</td> <td> 8.57e+06</td> <td>   -8.385</td> <td> 0.000</td> <td>-8.86e+07</td> <td>-5.51e+07</td>\n",
       "</tr>\n",
       "<tr>\n",
       "  <th>new_condition_(2, 3]</th>      <td>-7.184e+07</td> <td> 8.57e+06</td> <td>   -8.383</td> <td> 0.000</td> <td>-8.86e+07</td> <td> -5.5e+07</td>\n",
       "</tr>\n",
       "<tr>\n",
       "  <th>new_condition_(3, 4]</th>      <td>-7.181e+07</td> <td> 8.57e+06</td> <td>   -8.380</td> <td> 0.000</td> <td>-8.86e+07</td> <td> -5.5e+07</td>\n",
       "</tr>\n",
       "<tr>\n",
       "  <th>new_condition_(4, 5]</th>      <td>-7.176e+07</td> <td> 8.57e+06</td> <td>   -8.375</td> <td> 0.000</td> <td>-8.86e+07</td> <td> -5.5e+07</td>\n",
       "</tr>\n",
       "</table>\n",
       "<table class=\"simpletable\">\n",
       "<tr>\n",
       "  <th>Omnibus:</th>       <td>10652.856</td> <th>  Durbin-Watson:     </th>  <td>   1.999</td> \n",
       "</tr>\n",
       "<tr>\n",
       "  <th>Prob(Omnibus):</th>  <td> 0.000</td>   <th>  Jarque-Bera (JB):  </th> <td>163414.055</td>\n",
       "</tr>\n",
       "<tr>\n",
       "  <th>Skew:</th>           <td> 2.230</td>   <th>  Prob(JB):          </th>  <td>    0.00</td> \n",
       "</tr>\n",
       "<tr>\n",
       "  <th>Kurtosis:</th>       <td>16.313</td>   <th>  Cond. No.          </th>  <td>3.23e+22</td> \n",
       "</tr>\n",
       "</table><br/><br/>Warnings:<br/>[1] Standard Errors assume that the covariance matrix of the errors is correctly specified.<br/>[2] The smallest eigenvalue is 1.05e-29. This might indicate that there are<br/>strong multicollinearity problems or that the design matrix is singular."
      ],
      "text/plain": [
       "<class 'statsmodels.iolib.summary.Summary'>\n",
       "\"\"\"\n",
       "                            OLS Regression Results                            \n",
       "==============================================================================\n",
       "Dep. Variable:                  price   R-squared:                       0.616\n",
       "Model:                            OLS   Adj. R-squared:                  0.616\n",
       "Method:                 Least Squares   F-statistic:                     1388.\n",
       "Date:                Mon, 21 Oct 2019   Prob (F-statistic):               0.00\n",
       "Time:                        12:20:14   Log-Likelihood:            -2.6845e+05\n",
       "No. Observations:               19897   AIC:                         5.370e+05\n",
       "Df Residuals:                   19873   BIC:                         5.371e+05\n",
       "Df Model:                          23                                         \n",
       "Covariance Type:            nonrobust                                         \n",
       "=============================================================================================\n",
       "                                coef    std err          t      P>|t|      [0.025      0.975]\n",
       "---------------------------------------------------------------------------------------------\n",
       "date                         87.7390     11.044      7.945      0.000      66.092     109.386\n",
       "bedrooms                   -2.39e+04   1942.151    -12.308      0.000   -2.77e+04   -2.01e+04\n",
       "bathrooms                  4.695e+04   3112.573     15.084      0.000    4.08e+04    5.31e+04\n",
       "sqft_living                2.885e+04   4955.720      5.822      0.000    1.91e+04    3.86e+04\n",
       "sqft_above                 8.785e+04   4704.732     18.672      0.000    7.86e+04    9.71e+04\n",
       "yr_built                  -2049.8421     64.031    -32.013      0.000   -2175.349   -1924.335\n",
       "zipcode                    -414.7353     29.724    -13.953      0.000    -472.997    -356.473\n",
       "lat                        6.488e+05   9712.742     66.801      0.000     6.3e+05    6.68e+05\n",
       "long                      -1.764e+05   1.23e+04    -14.298      0.000   -2.01e+05   -1.52e+05\n",
       "sqft_living15              4.777e+04   2017.275     23.682      0.000    4.38e+04    5.17e+04\n",
       "sqft_lot15                -1.761e+04   1513.164    -11.638      0.000   -2.06e+04   -1.46e+04\n",
       "yr_ren_(0, 1900]          -1.525e-06   1.82e-07     -8.383      0.000   -1.88e-06   -1.17e-06\n",
       "yr_ren_(1900, 1990]       -2.697e+04   1.23e+04     -2.193      0.028   -5.11e+04   -2868.123\n",
       "yr_ren_(1990, 2000]        8.045e+04   1.57e+04      5.123      0.000    4.97e+04    1.11e+05\n",
       "yr_ren_(2000, 2008]        1.387e+05   1.43e+04      9.686      0.000    1.11e+05    1.67e+05\n",
       "yr_ren_(2008, 2015]        8.256e+04   1.39e+04      5.922      0.000    5.52e+04     1.1e+05\n",
       "sqft_base_(100, 5000]      5.513e+04   5274.380     10.452      0.000    4.48e+04    6.55e+04\n",
       "new_view_(2, 4]            2.085e+05   8074.098     25.827      0.000    1.93e+05    2.24e+05\n",
       "new_grade_(7, 13]          8.944e+04   3455.894     25.880      0.000    8.27e+04    9.62e+04\n",
       "new_waterfront_(0.5, 1.0]  5.093e+05   1.94e+04     26.262      0.000    4.71e+05    5.47e+05\n",
       "new_condition_(0, 1]       -7.19e+07   8.57e+06     -8.391      0.000   -8.87e+07   -5.51e+07\n",
       "new_condition_(1, 2]      -7.185e+07   8.57e+06     -8.385      0.000   -8.86e+07   -5.51e+07\n",
       "new_condition_(2, 3]      -7.184e+07   8.57e+06     -8.383      0.000   -8.86e+07    -5.5e+07\n",
       "new_condition_(3, 4]      -7.181e+07   8.57e+06     -8.380      0.000   -8.86e+07    -5.5e+07\n",
       "new_condition_(4, 5]      -7.176e+07   8.57e+06     -8.375      0.000   -8.86e+07    -5.5e+07\n",
       "==============================================================================\n",
       "Omnibus:                    10652.856   Durbin-Watson:                   1.999\n",
       "Prob(Omnibus):                  0.000   Jarque-Bera (JB):           163414.055\n",
       "Skew:                           2.230   Prob(JB):                         0.00\n",
       "Kurtosis:                      16.313   Cond. No.                     3.23e+22\n",
       "==============================================================================\n",
       "\n",
       "Warnings:\n",
       "[1] Standard Errors assume that the covariance matrix of the errors is correctly specified.\n",
       "[2] The smallest eigenvalue is 1.05e-29. This might indicate that there are\n",
       "strong multicollinearity problems or that the design matrix is singular.\n",
       "\"\"\""
      ]
     },
     "execution_count": 134,
     "metadata": {},
     "output_type": "execute_result"
    }
   ],
   "source": [
    "import statsmodels.api as sm\n",
    "model = sm.OLS(y,X).fit()\n",
    "model.summary()"
   ]
  },
  {
   "cell_type": "code",
   "execution_count": null,
   "metadata": {},
   "outputs": [],
   "source": []
  },
  {
   "cell_type": "code",
   "execution_count": null,
   "metadata": {},
   "outputs": [],
   "source": []
  },
  {
   "cell_type": "code",
   "execution_count": null,
   "metadata": {},
   "outputs": [],
   "source": []
  },
  {
   "cell_type": "markdown",
   "metadata": {},
   "source": [
    "## Summary #2"
   ]
  },
  {
   "cell_type": "markdown",
   "metadata": {},
   "source": [
    "The r^2 is 0.62 which is about the same. But now the P values are pretty much all zero. Even though I was really curious about the 'condition' feature and believed that it should have something to do with the outcome of price it seems to be prety unrelated.  In fact, the regplot showed that it wasn't linear to the 'price' feature and binning it into all those seperate bins didn't make any difference either. \n",
    "\n",
    "My main focus was on 'yr_renovated'. I really hoped that by binning it in different decades I could determine how important recent renovations where to sales price. And the fact that the homes without any renovations, yr_ren_(0, 1900], had a negative coefficient meaning that it would indirectly affect the price.  Whereas recent renovations, yr_ren_(2000, 2008], had the highest coefficient and one of the highest overall, which is strange since such a small percent of the data had any renovations. My one bin yr_ren_(1900, 1990] is the only one with a strange P value but I didn't want to drop it since it was in my area of focus.\n",
    "\n",
    "I also created a model where I binned the zipcodes - Model 15. But for the most part changing much more to this model yeilds similar results."
   ]
  },
  {
   "cell_type": "code",
   "execution_count": 135,
   "metadata": {},
   "outputs": [
    {
     "data": {
      "text/plain": [
       "array([False, False, False, False, False, False, False,  True,  True,\n",
       "       False, False, False, False, False,  True, False, False,  True,\n",
       "       False,  True, False, False, False, False, False])"
      ]
     },
     "execution_count": 135,
     "metadata": {},
     "output_type": "execute_result"
    }
   ],
   "source": [
    "# Use feature ranking to select the 5 most important features\n",
    "from sklearn.feature_selection import RFE\n",
    "from sklearn.linear_model import LinearRegression\n",
    "\n",
    "linreg = LinearRegression()\n",
    "selector = RFE(linreg, n_features_to_select = 5)\n",
    "selector = selector.fit(X, y.values.ravel()) # convert y to 1d np array to prevent DataConversionWarning\n",
    "selector.support_ "
   ]
  },
  {
   "cell_type": "code",
   "execution_count": 136,
   "metadata": {},
   "outputs": [
    {
     "data": {
      "text/plain": [
       "Index(['date', 'bedrooms', 'bathrooms', 'sqft_living', 'sqft_above',\n",
       "       'yr_built', 'zipcode', 'lat', 'long', 'sqft_living15', 'sqft_lot15',\n",
       "       'yr_ren_(0, 1900]', 'yr_ren_(1900, 1990]', 'yr_ren_(1990, 2000]',\n",
       "       'yr_ren_(2000, 2008]', 'yr_ren_(2008, 2015]', 'sqft_base_(100, 5000]',\n",
       "       'new_view_(2, 4]', 'new_grade_(7, 13]', 'new_waterfront_(0.5, 1.0]',\n",
       "       'new_condition_(0, 1]', 'new_condition_(1, 2]', 'new_condition_(2, 3]',\n",
       "       'new_condition_(3, 4]', 'new_condition_(4, 5]'],\n",
       "      dtype='object')"
      ]
     },
     "execution_count": 136,
     "metadata": {},
     "output_type": "execute_result"
    }
   ],
   "source": [
    "X.columns"
   ]
  },
  {
   "cell_type": "code",
   "execution_count": 137,
   "metadata": {},
   "outputs": [
    {
     "data": {
      "text/plain": [
       "array([False, False, False, False, False, False, False,  True,  True,\n",
       "       False, False, False, False, False,  True, False, False,  True,\n",
       "       False,  True, False, False, False, False, False])"
      ]
     },
     "execution_count": 137,
     "metadata": {},
     "output_type": "execute_result"
    }
   ],
   "source": [
    "# Use feature ranking to select the 5 most important features\n",
    "from sklearn.feature_selection import RFE\n",
    "from sklearn.linear_model import LinearRegression\n",
    "\n",
    "linreg = LinearRegression()\n",
    "selector = RFE(linreg, n_features_to_select = 5)\n",
    "selector = selector.fit(X, y.values.ravel()) # convert y to 1d np array to prevent DataConversionWarning\n",
    "selector.support_ "
   ]
  },
  {
   "cell_type": "markdown",
   "metadata": {},
   "source": [
    "### Top 5 columns \n",
    "According to the feature ranking code and my model these are the most important aspect of a houses price:\n",
    "'lat', 'long', 'renovated recently 2000-2008' 'view of 2 or 3', 'new_waterfront'"
   ]
  },
  {
   "cell_type": "code",
   "execution_count": 138,
   "metadata": {},
   "outputs": [
    {
     "data": {
      "text/plain": [
       "LinearRegression(copy_X=True, fit_intercept=True, n_jobs=None, normalize=False)"
      ]
     },
     "execution_count": 138,
     "metadata": {},
     "output_type": "execute_result"
    }
   ],
   "source": [
    "#Fit the linear regression model again using the 5 selected columns\n",
    "selected_columns = X.columns[selector.support_ ]\n",
    "linreg.fit(X[selected_columns],y)"
   ]
  },
  {
   "cell_type": "code",
   "execution_count": 139,
   "metadata": {},
   "outputs": [
    {
     "data": {
      "text/plain": [
       "array([[442985.88647058],\n",
       "       [598325.53386795],\n",
       "       [624323.7903306 ],\n",
       "       ...,\n",
       "       [502008.10139682],\n",
       "       [489119.33275996],\n",
       "       [501772.83742015]])"
      ]
     },
     "execution_count": 139,
     "metadata": {},
     "output_type": "execute_result"
    }
   ],
   "source": [
    "# Predict the y_hat\n",
    "yhat = linreg.predict(X[selected_columns])\n",
    "yhat"
   ]
  },
  {
   "cell_type": "code",
   "execution_count": 140,
   "metadata": {},
   "outputs": [
    {
     "name": "stdout",
     "output_type": "stream",
     "text": [
      "price    0.252179\n",
      "dtype: float64\n",
      "price    0.251991\n",
      "dtype: float64\n"
     ]
    }
   ],
   "source": [
    "# Compare and contrast two models with the R-squared and adjusted R-squared\n",
    "SS_Residual = np.sum((y-yhat)**2)\n",
    "SS_Total = np.sum((y-np.mean(y))**2)\n",
    "r_squared = 1 - (float(SS_Residual))/SS_Total\n",
    "adjusted_r_squared = 1 - (1-r_squared)*(len(y)-1)/(len(y)-X[selected_columns].shape[1]-1)\n",
    "print(r_squared)\n",
    "print(adjusted_r_squared)"
   ]
  },
  {
   "cell_type": "code",
   "execution_count": 141,
   "metadata": {},
   "outputs": [],
   "source": [
    "# The r-squared and r-adjusted are both pretty similar."
   ]
  },
  {
   "cell_type": "code",
   "execution_count": null,
   "metadata": {},
   "outputs": [],
   "source": []
  }
 ],
 "metadata": {
  "kernelspec": {
   "display_name": "learn-env",
   "language": "python",
   "name": "learn-env"
  },
  "language_info": {
   "codemirror_mode": {
    "name": "ipython",
    "version": 3
   },
   "file_extension": ".py",
   "mimetype": "text/x-python",
   "name": "python",
   "nbconvert_exporter": "python",
   "pygments_lexer": "ipython3",
   "version": "3.6.6"
  }
 },
 "nbformat": 4,
 "nbformat_minor": 2
}
